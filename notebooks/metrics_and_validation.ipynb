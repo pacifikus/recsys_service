{
  "nbformat": 4,
  "nbformat_minor": 0,
  "metadata": {
    "colab": {
      "provenance": [],
      "collapsed_sections": [
        "JnXNA8JwHoDL"
      ]
    },
    "kernelspec": {
      "name": "python3",
      "display_name": "Python 3"
    },
    "language_info": {
      "name": "python"
    }
  },
  "cells": [
    {
      "cell_type": "code",
      "source": [
        "import pandas as pd\n",
        "import numpy as np\n",
        "import numba as nb\n",
        "from itertools import product\n",
        "\n",
        "from timeit import default_timer as timer\n",
        "\n",
        "import seaborn as sns\n",
        "import matplotlib.pyplot as plt"
      ],
      "metadata": {
        "id": "rYlPgcZ0IAfT"
      },
      "execution_count": 2,
      "outputs": []
    },
    {
      "cell_type": "code",
      "source": [
        "from google.colab import drive\n",
        "drive.mount('/content/gdrive')"
      ],
      "metadata": {
        "colab": {
          "base_uri": "https://localhost:8080/"
        },
        "id": "q3heHxadXFGt",
        "outputId": "41161153-8e0a-45cd-bf83-aacf318e4b2b"
      },
      "execution_count": 3,
      "outputs": [
        {
          "output_type": "stream",
          "name": "stdout",
          "text": [
            "Drive already mounted at /content/gdrive; to attempt to forcibly remount, call drive.mount(\"/content/gdrive\", force_remount=True).\n"
          ]
        }
      ]
    },
    {
      "cell_type": "code",
      "source": [
        "%cd gdrive/MyDrive/"
      ],
      "metadata": {
        "colab": {
          "base_uri": "https://localhost:8080/"
        },
        "id": "f3nW0sD6XgZ1",
        "outputId": "308871ff-4b02-42e9-bd8b-760c185b5673"
      },
      "execution_count": 4,
      "outputs": [
        {
          "output_type": "stream",
          "name": "stdout",
          "text": [
            "/content/gdrive/MyDrive\n"
          ]
        }
      ]
    },
    {
      "cell_type": "markdown",
      "source": [
        "### PFound\n",
        "\n",
        "Исходные данные - Yandex Cup 2022 Analytics\n",
        "\n",
        "- Ссылка - https://yandex.ru/cup/analytics/analysis/ , пример A. Рассчитать \n",
        "- Данные - https://yadi.sk/d/guqki4UI4hFlXQ\n",
        "\n",
        "\n",
        "Формула\n",
        "\n",
        "![image.png](data:image/png;base64,iVBORw0KGgoAAAANSUhEUgAAAa0AAACbCAYAAADRAsQzAAAAAXNSR0IArs4c6QAAAARnQU1BAACxjwv8YQUAAAAJcEhZcwAADsMAAA7DAcdvqGQAADUmSURBVHhe7Z0PcFPXne+/u8mseKRjJp2VJ91nDRi0obVIW4tiKo83yKVBLgGcBEdQu3KKaxNUu8VUE1CUgENTXAeiQhI7TLHDJna9iRUSYjOlVraslQ1jNcta7BLLLSC3gPwGxuqQZ82DseaFd9/vXF3ZsrGNIP6n5PeZka7uuVf3nnv+fc/vd869928kAgzDMAyTBPytsmQYhmGYWQ+LFsMwDJM0sGgxDMMwSQOLFsMwDJM0sGgxDMMwSQOLFsNMCiF4D1Vi7cKFqDoRVsIYhplsWLQYZlJQw5CzhJYG6LQp0SCGYSYdFi2GmSRCF7rhV2dDN18JYBhm0mHRYphJIYLAmTZglQ4qrxPWkiKs3eelUIZhJhMWLYaZFALwnwT0kQ40/NcS5N7rRb+yhWGYyYNFi2Emg75edPWoEertR8q9auQ5/4yPnjJApWxmGGZyYNFimEkgcqEbbnUx9v/zBkQcVjR5/Wg76mf3IMNMMixaDDMJBHt9UBfooVOpoTHo0P9+E4ILtGxpMcwkw095ZxiGYZIGtrQYhmGYpIFFi2EYhkkaWLQYhmGYpIHHtBjmloTh3v5NWI8oq2otDIvVysrERIJe+C4qK0OYcODfD2JdmrLKMEzCsGgxTCL0taFyfSXaQmLFgN3/2gzLInlLAkQQ7gvAe8KFlteb4CER0z17DMdKdMp2hmEShUWLYRIkfKIKD5U1QdYtdSmaOxwwzJU3Jc6NEDwvV2LHK1q88F+7YeRn6zLMbXHXc4Tym2Gmh0/8cL1UjfoTfvT9oQ3OQ+/g7N1fRdbiL+NuZZfZiGphNpb+rReuP1wGrvvw4adZKM7R3F6c//YeLDCswdL/9xIaP/knrPnaPGVDknGlDdaNB3H2//Thr/9Dh8Xqm1MheKIBb7/TiKpfh/FPj+owO680hLaKjTjov46+qyroFqfelJ/JcR1fIISlxSQhZxqlQst66cH0dCk9PUt6qLCQ1qOf9UYRRh9Li3RJ2X36OS+1/LRQeihLxGWX1HEtGjror5c2mXZILWcHogGCTy9JrU89KD24t1MaVIKGoW1P03WZsuRryjKJaxT/j+55qW3riDTY1d4vh08Zg91S7WNK+tJn09t3mMLXLkldpy5JcalwG3RLjSKvlTRJN66X833Hm+fHSL87xN8obdmySVov8s/SSLk5isut0paxyte181L7641SZ1BZH2+/22Tg93viyvuD0vqhsk6/y/dIrYFErjyabtH6ESuT/VJreaHUckHeIY5B6Xx7o9T4oRLzSboO5rPDopXUdEm1olF5uFbqGlFnB6SO5yj8l2OJwHRCgrOF4lHeSk0Dca1T2mPcKrWM2cBcklo2pUu7OsaO8aU3C+UGekf7yGZ+4FStVFhaK3VcuLPm/44ItkpbZTEWn01jNHjTQ/erQrTWSLW+Kcpl0VDTNa55uevmcjROIz7QsUvKyiqUXuxU8mMyG/uBDmmXSPNYeZIZkDp/tUZOh8azStCEUDmzxB9jHNES58rKkgp/1RntWLBozRp4ynsy0+NDewhQ54jHBylhMinQ6U0waNQz+xihcC+63IDBkAEx187/Gyf6f2aDeVEE/jfsKCqzo3qnFUU73QhCA3NVDYI7GuCL/juOEHpOeWlpQvY3YoNAEQSO2FH5oRY1L5XDOH8aB4fS1sH27Dr5mgAP7Oa6MeI81QTh94rRNcr7xVOTy2F/Fyj7oH9Al3A5SjHuxkcfNcNmmIL8ONeFJloYczKVtBekIG2BmIbpR7svGA2aiCun0XGSyqR+Ef1zAlKM2P3RR2jeZph4P2baYdFKYkK9XVRVqVHRKc+4C/vgOuKDeNl7f58Pmr9PFaEzh9zI6JCdoaEVHzxv6rFhpQb+wyVY+3YKyvbWwPH8QRzI6cQPyqrhupqLsoJGtJ8c9ZjZSABdR2mZk42M+2h5PQCXwwqXqhQHtpmgud3JEJOAZu0LOPgTZfZfyAlrzTS/OyvUg05qfLF6KXRTdP2Bnnb6NmHpV2e06zOE/4yHvnVYuji+XIfR4xXSakSe/tblPRLoJiGmMpnJz4VMVli0Zht9bti3lqBk+So4j7lRV0HWSI0VBSVkgVxX9pEJw/8forIaSBSi/c7QSReaLkOujDrrR6gxKX3EGyF4D5FlU1EF535a5tnh6hVNbNTisdL51uY64Yu1ulfcqCouQtPHYiUIt6MS1rIVWPWKB/5jTlQ6qlEt1h3CQoojdp7ttL2iAEX7RSOjWAIXA+g0iAaWxOvXPuhMeTDcG/2b+htLkXGiAa1nB8lCzIPnXCC6IUavH8LO0i3TIZXSp8qyCg0LbHCs1c5gL1gF/ZO7YcuMroUOFaHKLboLn4VoWpeULMeq/W1wv2KFvaYa1vUlaDg9UhIjZ7vQRsuRVsdowggco/8XUxk6VI2SvBLUnYyL47jlQuCHz02WnDEXmdRRCJ6g42ynuOWOY1X2eVC91Q57yQpYjyZg8ShETtehskKUPyua3C5UUVyqHSUoGF22yNru9VEXTW2AfsiyjCB4dBd2fWBA+cHdMN+vhIvreqMKlcKSp+sqWe+EV6k7/tOto44xmiA8v6iEfXsJVlS0jYoDMytQ3ITMrGBA6ni2UKr3d0n1D6dL6Y+9KHVeFeHK2NCIMSplPGtoEkZ0kHr0mI90jfYrzJLW7+2Q+j+NBp3/TaGUnlUr+Xy10vpn26WBQItUSMd5sTN69P62LUNjNYOdL0qbXuuWuuUxpSxpa2ywn/4rxnRe7JT/QlAcf5YlZf2sRTovBrgHO6U98eMPYn8Rf2WcpPDNuNGB+LDYfsomQWw8a9PTu+izQxlPepFSIDH6f/+itIP+l8in5Yzyp0S50CJtEtcpfz7b+NbA73dJhZTWXa+JMZr10osfRvPy0rsiP/ZISvbIdMv7TDSedUlqf+rBaH4oRWKwYxf9Z6skz1WZoFx0ixW6rkK6JjGe1X+qVtrxaofU/nKhlBW7xhFjPGJcaAuFi3NSOmyKG/uZcCyom8r5Dqn9QnSsaqjsUM6+SOsjykhsPMtYKG0VefXUFqnQmC6t/2Wr1D08wCVPlGkspXL4bKt0SZn80/Wr2LHE+egYI8bERo5pibK/hfa91L5jZH7ymNasgS2tWcUAoC2D6Z4+dPVQJ/dx85A1MniNvnqCw2/DVcazsPHnONLcjObGGpTmxI/5CCLwvUa9aG8uykqNUN8VDVXNpX1Cnei6kILi7xuoF90ErzpPcQMpFlxONnTUww4jFY98OwW9J8nWMdpg26iVLbnwVRETHebMifbMQ9SjrzyaCvP386EV7qpIRHaXxcaz8GU1DH0hhO9LwxIK8Ibku53GJBbPKGEytISdpYFqQR5eeL4GZT8Sbrk6tJ5IzLJRr7ShpromoY/5AeVPiTLfjN0vxY1v7Xbdce98AFqUrUxBn7AojGaYc5S8jIjr9CN4Jboqj2d5ZMfwzeNZnwTgvxKR88N6JA1lP6T8UA6j+pL40Yaus+EJy4X/Ii38nbJ1qzrbCtdlExxWIzIy81Dxkg1586P7D3FjAKplxTDM7UHHEYr6KgPlVgKEI0j5IZXxq360UwrmPzqy7Hgv9MlLGbK2hbPS+GQNDoi82nsQNT81wXdoDzx90V0EwWNOVJ3QocJigkZF6dDjQqPbLN+aEH1RJx1jAut04K5s2ncOek64aMc8GEZfKzPjsGjNKjQwPmHEvIAYADcg++uKjz7cK7/KXZ2hIQmJEhvPMhn0iouMqvd9uchQRE4mQsK2n/bamDskfmK/vrPCraiBxmjBuowAPK/5oX405q4LoKuZzvWADlpqD9UG2ieNKvtxkqhMrXJ+avQ8TUCGEQa50QzB66Zjqo3IfiDaiEbOdMaNZxHzdci9QHEO66nh0QP7W+FRXDah/+4acjmF+rqh/2pUGGUifnRSfJBTCttmg9zA6kwWGCmo6YhnVrhvxPjWgc3RZlB9bwThT+Sft41mJV3XvdG0NuTohtJaFm21DppYSzvueFYE3gY7PJf70PG26HhQvsdcZkQwIFLZgNQvnZ6wXMxLiSBwRnY+UnoH0Pl2E9p7I9DkWGBZq7vZJXuXFqYnDMAHLXDBhEeEQCRCih7mAj2Cp9upBOViaWw2keIONi5IGyoHfnmfkeNZGo2WvkPoPBsrBUF42zxULlPQT+Wz4bVW+AZ0eKa1BqY0Ssmzo+rVGGhXW2C40YEWEl/T2gTFl5lWWLRmIYEzQhCyoV80UgDyqSGLhsTGs4zI/XqsJdPBstcsC80Qn4TkRt2gi5spRULWeZT23pwfbbAUiy03Uzk2rYuRqNyvaxE45oJPdPKVWVtDs8jCPnSQkOhW5kJ72YMm7xkEqaHFyiVDsxgD50SzQ5bAggDa5MkhFP8fD6DqDR90JYfx/ksqNFqsqNppxa7TWlSUGBB4uwq7PlyKspy4fvA5H1ppIcazhhqQ+XnYUEBLdz0856JBExE64YTdYU/o45LH8W4XFdIWkxBnluPAsxbo4jsOt0ts8kpsooAi2rpHc4cEKjaeNWTFxuhzo/EDEqKMAYSEqC3SxpUHatDfpzxZnQ/TvQO3KBd++MTEl40b8MJLzbBlNsH+UC28N8hy+diP0JD5E48f7tc9UBdtgPFuL5pOJNqdCKL3FAnoairvSroFz3TQ0UzIM8TERbEsR41F+X2ipJLQ3BfbLxS97mWPoGJzKUo3m6lTp4M6mpDwn6JSrBZlkkT545Do5o2J390Ej9qCDcY58L4xOzpGzDAsWrMOajBO0CKigkqubEG0Hm6A3upARcxdRNaQ/31aZCylChsNGZP7Mqjxo6p8LVY9yUI65IRLWw7HkyOn8qrkk0Xgc7dSDKhx0ATQ/jqpGQVHZ23FzSKjnnAT7ZNv0sL/dj3Cc74KzWoKp2PIe1Dj6XqXGhkSWfWf2tGoTA5Rr34B++92wno4iNS1Dhx+5yB2P38QB+3Ug3+2GR817UbFozqK5rDbL+jvpKYoTjBlUmBcV0pLP6qaPHRVEzOl7kFCTCbYVqNCzd6KOMvlzoimdUTJD7r+o/VoIDGMzy95MoEQtpgVKwh54NxaiT6TgToOWuieIDmjfI/lfPCoE86/mFGzLR+a+bcoF2LSDCX6kBUvHhGRkwr1VTrHfp9wYt/Mxx7U9+hgzifLqa0eQVWCz41QbotAilJ2rpPg7Q9gXbUN+fOVHFc8DVi2JOo+lAmRZUhljFBR/CInq1F06P/edN24EYb3YAnsR09GjyE6VhdcsP921GSfIfyy50G3MR/6y62ov6ziJ2DMMvjZg7ONiy4U5dqhWm2ipiQV2kgQKSYbKgqEWyaINrIGWs72wXta9P800OekQZVjQ/Nm6umPhZjVtasa/vuM0F7rp9b/EZQ+aoRmSLGC8NRUofrjVBjvpwZggQ6R92vhI1EyWH8OWw4ZNNu/iXp1Mw4/pTSc1PtvKClBu4p6rattcBSQVSBmPZZWo19vhOpTDb6nC6D21QDU3zag4jnbiMY83ONG029acP4uHZZo5mHgapAaUJU8izA3kxrdRSmIeIS4+RA660WAGlD1/QZoTRU4vM0A1ekGFD1dD+85IWeUCplm2F6qmZGnpkd6GmAt70buyz+H5YH4bsCdEISreAXsd5tgImVIXRxBMCUPtifNsvUWclehsjkwlCYaSqu0e+hv12LlQQfbO0dQnkmN/XXqWDy9DU03jDCmBBD+yiMwb1wHfcw0m6BchE/Y8ZBjEM+8c0BO00hPEyrLWxHWapG3zQFLBu0kHuO0fRCORnPUAlbKROff5yJVZ4aDyqOcGqP3G4UQm68Ve2FcTRFL0ZBgDmBJmQ0Wo4ZEjK6huBrtseuTn65vQPHe3TBRZ03Eq2pnAzq+nAHD3KUofq4UelX0uttVJuSqw+gKp+J7j5mxjtLEs/MhlHxCZUXlA35wOJpOJH5tFZUYfKoZZnn8iiyyQyUo+YMaufctgfkpOqYou7e4DmYakadjMLMGMYMsPb1QagwoAczsRX4yxvAsv8+MMkOu8Dc3PTRp9pHobLpb7BedBTn8mK+pZVAaGBigT/yMy/Ee4zQKnj04a2D34KxC8btnZEPH71qa3Vz3oW7rHmBbTZzb9rNx0+SVzz3KWNUU3iA9EhVSUlLoo7gdmaSERWvWEICrogj2Q/Szx4Xqigb4bkS3MLMMIVhl23D+8Wb8XLkF4HYRbrGC/b6hsZfAW+JxVg30yw/XL6xoOB0N/9wS9sBZ9CM4xTjTqVpU7nTLY5cMcyt4TIthbosg2mwFaLzvwPAY3+0iv1CyHpq6I7B9K0l7/WKMJ/s9pNqzkWsqhXGM+5nEKz3cvm60fpyNV2ftWJAY01qO9+51INtoQunKm2OZHNfxxYFFi2ESJgzvvhJUXjGj+Xlz3Ey2BImE4H3LCeduF3w5DhyrLx31oGOGYW4FixbDJEQEvleKUNCWBod9Q8JjMJG/BhC4HETgAw86vIEhF5ix6n0cfOLOXIsM80WGRYthEiB4rBIFW9smadzFhAP/fnBGpugzTLLDosUwDMMkDTx7kGEYhkkaWLQY5raJIBweelBQgtzJfxiGGQ2LFsPcJmF3Fb6Z74QnkTejiLdJH3LCvv5BfNPB9yIxzGeFx7QYZhrwvbIQBWcP4KPa2Lu3GIa5E9jSYpiEicB3sBJF65ej8jjbTAwzE7BoMUyi9LaiEd9B/ldC6L0i3tws3i/lhdc7zuc/g7d8bQrDMLcHuwcZ5na46EJJbivyOmKvskgMdg8yzOTAosUwt0HwSAlWHM9FzbIA5j3qwCJ/K3zjvV5fpUOe8np6Fi2GmRxYtBjmNggetaLgN2EYvmvDC1Z9Ao9hCsJzyI2OP1SjqX8dytdlI3ejGfrJeZsJw3zhYNFiGIZhkgaeiMEwDMMkDSxaDMMwTNLAosUwDMMkDSxaDMMwTNLAosUwDMMkDSxaDMMwTNLAosUwDMMkDSxaDMMwTNLAosUwDMMkDSxaDMMwTNLAosUwDMMkDSxaDMMwTNLAosUwDMMkDSxaDMMwTNLAosUwDMMkDSxaDDOVnK7DwpIqNBxqgveKEjYOwRMNaNhXibXFLgSVMIZhRsKixXx++bgJRcVFWLV8IRYuXIgV64to3Q7XuYiyw2fH32yFtawAy+n4Rc0BJXQU9+fBstkCw33KuiASgveQHfZjw/KkWVmKUst3kKasTzk3wvAfq4b1kE8JYJjZD4sW8/nlAQuaGx3IF78zbNj/L820XgPz/bd+SX6i6IoO4ufr1AhBh+wMjRI6AUJIi0g8CwtQVEMW1TUlfDoJeVBNYl5kLkDJ1ga4r0YweTLOMFMLixbz+eaiH50hWi7TQTd5WhUHWSv/4aalHrrFCZxACGkzieezZiVgBlAb4WikONRVUKwZJrlg0WI+14T8nfDS0qTXYUo0CwH436fF6qXQzY2GMAwzdbBoMclHnxv2rSUoWb4KzmNu1FXYUV1jRUFJA3zXlX1kIgicaaOlEblfV0eDxuJGdHypqKIKzv20zLPD1RvnMAt50bC9CNadTjhpucrhQiB2nh4f2smSM+ZkQo0gPBQPEbcVr/A4EcNMBSxaTJIRhufXjdA+WYFsdQB1r3dD/3wNHHYHilXVKHjZGzc+Q1bQSVpkLIU2fhJEPNd9qCteA+dAHg68tBu2bTXYbQnCXtgAP22OnK5D0RonBlYfwMHnbbDt3Q1LHwnbG2IrEDzTQfvpsFQ7B76DdfAvewSav/oRPB2YmhmAET9cDjvsiXz2eyA8owzzeYJFi0kyBgBtGUz39KGrhyycx80w3BvdMigmNfQE0R9dlcezOmifscazwuf8CEUi8L1G1pU3F2WlRqjvim5TzU0h66oT/vM+NJB15V1ZhjJjzFJTYd49wvgiYSJJ6DklnI8qdP/Whb6VDpSvzIB+VQUObMtDAtMybh+VDubqGtQk8tlG16T8jWE+L7BoMUmGBsYnjJgX6IIbBmR/PTUaHO6VrSp1hgZKyPjjWREv6p/2IBjxoX0/WUwbc4eET7gU+86KiRUazA20w0miZ15hAMlYlEgfusXmtHmYFwmg6yj9JkFTnetES1M7Atc1MDxhwboHhv7BMMwkwqLFJCWBM01ARjb0i6JyFDnTiSbokJ8TE6jYeBYJW8ZIeyN4vBEeowG66yHZhWfQLYoTJR86SYh0m/OR8am8FTrtsABFfJ1opfOUriYh6/HRbxK1DS/gQLMN+mY7VtWRTEZC8H8cmppp5OweZL7gsGgxSYgfvhO0iKigkhUqiNbDDdBbHajIiQkM7SOsIBI2XdzduiGPE9tsfcgT4nZfBrIzKexaTF7C8B1ywqUth+NJAxYuJlGkZj8Sm3QR9qHhRRe0P4meJ3i2k7aakP2N6Dnn0MfwD2r5HE7fgBw26bB7kPmC8zcSofxmmOTgogtFuXaoVptIZlKhjQSRYrKhokBHFlMI7p2VaPxzCAFvgNY00OekydZXJOiF7yL9yLDhyDvl0IvAPg+qd1XDf58R2mv9gP4RlD5qhEbRvuCJalTt8yPVqMXgZWDpo6XIN2roPGF4HA9hR+QZHHGuo7NE4G+uxI/fDWPR4jzYnrJAJ1yO4jFObj3+aDdELUBxc/G+dqA/AO85soPUWhgWq6F5nERmrQa40gbr9kE4Gs1TMyYmEDcX2+rhv9YH72lhTSpplGND82a+c4uZ3bBoMUlH+EQVvlkWwO5/bYZlkRI4WxktWrdiOkSLYZIYdg8ySQZZNKei41nxbj+GYb4YsGgxSUQArooi2A/Rzx4Xqisa4LsR3cIwzBcDdg8yzFQi3IM7z6N8XTZyN5qhH56IeBPi1SRuXzdaP87Gq+weZJgxYdFiGIZhkgZ2DzIMwzBJA4sWwzAMkzSwaDEMwzBJA4sWwzAMkzSwaDEMwzBJA4sWwzAMkzSwaDEMwzBJA4sWwzAMkzSwaDEMwzBJA4sWwzAMkzSwaDEMwzBJA4sWwzAMkzSwaDEMwzBJA4sWwzAMkzSwaDEMwzBJA4tWQoTQVrEWlfsa0HDMj4gSOoKLHjQccqJyTRFcF5WwLzpX2mBdUwnnoQa09YyZatOKeMliw75KrC12IaiETUSk1wX7dhcC15WALxLi5ZUlVVSmm+C9ooTNGGH4jlDe7SzBwhrvUP0LHquE9fA49XEcwiedsO7z0hGZO+a6D3VFVXB/oqxPM0kgWiF4flGEovUrsHDhQixcvgpFxbRe45m8gveJB9VWK4py6fgLq+AZs5FKQba5FKVrdVApIdSsIeBuQtNJagLnG1G6uRjfWaBsmmk+bpLTadVycU0LsWI9pVmxHa5zkygePU2wWktQIM5R3ISAEjyCL2fDvLkU6zKGUw2f+OA61Ab/VIpBJATvITvsx4blSbOS8s/yHaQp6xMiykRpJ7J/aoZ2rhImuBGG/1g1rId8SsBM4kdTGeVr3nI5j5fniTymT9EqrKDfdopjInUkdKJa/s9yOkZRc1wu3p8Hy2YLDPcp64JpyLvIFS8attvR1qcEUN3TF1DePbZUWY+iWftzbPhLCaxHEumCED0NKNk/B2XlBjpiHLMpTyM+NFAeFshtUazeRj8ibEVJNTxD6TJ1+JutsJYV3FwmBHP1KH9Gg/o8J7wz0RcVby5OBvp/u1VKT0+XtrT1KyGTTZdUm5UupZe3SjefoV9qLS+UWi4oqzEGOqRdWVlS4a86pQE5YJz9Zozu6DU9XCt1DSpBk83lVmkL5cual7ukm04htllapEvKaozzr6+X0o07pNYLUxCpM41SYWGhVPjYg3J5KXxz1NnHidNIBqXOX2ZJm14/P3xN/R3SHos47kNSFh03/ZedN1/vDNH92hq61jVSrS8uRsEWOV/Sn+1QyubEDH64Z+QxfLVjXuNU5l3365S+lHfrjRTv9DHq0VhxutAibUrfIrVeVtbH5ZLUsilL2vX7uNSYxXna9SuRBqOu61qntEfU5/QXqbWaevrbttxcroagOrI3S8qiej/dJIl7kCyaM220NCA7Qx0Nmmx6fGgP0RkMGUj4DClG7P7oIzRvG9Vzmy1c9KOTrgnLdNDFGTqTSdjfBTct9Q/EW6ATo33iCP7cUYN186cgUg9Y0NzcjOZnzUrAHXCxFfWH9HhkpXb4mtRGOBrpuHUV0CtBs4Mgek/5KX4G6BfHpWeaFlqxbO6EP4HesP90K33roF0wcZ5MZd7pnqD0pbxzPKYEJML8PGwocKPePaadP0TE64Kz34x8Q1xNncV5GjhNi5ylWHRvNERmbhqWyBH1IzDlQxBkff6HXLOhiy9XQ6hgeLgMqftb4ZlmX2uSiFYAvqO0yMiGLiHfzu0T6u2ioqAjUdQoIclPyN8JLy1N+sQF5XYJ9LTTtwlLvzpVZ5h+gl6qiDnZyJiisjaphHvRJdqWZUtGujGpE+ahhbqI6swts4YayVPUu1mdDX18I5kUpCDDYIL/Nx6qv+MRge+DOoSWLYUuPo1mK1dOo+MkifgyPbTxeXfRi/cor9WPPgLDfCVsygjA/z4tVk+QZhl6GNGEdu/0qtYMihYVpIOVsJatxYqKJriPVMG6sxr2kgLYj4/yUSsWgzqHVH+CChg+14bqiiLYaxpQXbYKJa/ED7iGERB+62I7qg9VoySvBHUnY1uVXoXSW430NMFeYYd1vRVtYw5CB+H5RSXs20so7m0JDepPHkG4HZUoKVmOVfvb4H7FStdL17W+BA2n47vUMevUiNyvT2Q7TpQuREiMLxRR3jjhpOUqR/zEBD98bsoYYy4y76OYnaDjbKe45dZhrNEBka6VW+2oXL8KzhlxhidCGL1+kvoMLWau+5JoHhO9fohugzEnc9hD8IkXdVSXwgW7cfhnxiEvQPicG3VUZit3O6meFMB6VCm5SiM54hijmM15p1mwhNKhC73jThihBpiuz7B40ZR13m5N4nkaCXTL3gvd/cOWfrinDVU/cyJScgDNVeugEZMhtpagaPkK2I+40bTdiirRHu0bnqgybn4LrgfQVmOV67XYZn+lCQ1veCEcMzKK5ylaJqi9o33tdL4Vr8TXbA3+cTXgOjexlTvZzJxoUSWoCn4Pjo16BI/X4nefWnDgeQdqfmyAiwQjfgZeOOCXLQa9Ls5dM4rgcTvWWv4N2p8eRI29FI6XHNDsL8Ku4yIbqMBsX4sijxa22ho4Njtw0K6Bs3gXRJuLCIliMy2pt5p2tQ3Od+chL2cQPad9OP+XmytoiBr5Fq0N5StT6bzvwZuoqU7ncTnssCfy2e8ZLkBxhE80oFFbhoqcVAReaUR35gt0vQ44fqBC9fr4gdFoRUXGUmjjB9JHMHG6RE7XoWiNEwOrD+Dg8zbY9u6Gpc+OojeUPi11Jjp6qHJlajHnP+tQdy4bj2hC8F/sutl9IQaYXwxiw3MWLIkE4DrpG6pcs4uoa8agUc9YA5d4Hgu3XjuVEzXCZEmIclNJnbXlS1ugevoDHNtrgU6xnEKeKuqQtADmAzhQZYPDXgzYmuRjRV28OixdnBrdeTSzPe/UGrL1e9F/VVkfTTiEIJVT7X3jXN80cHt5Kly1emojXWg41CB/al91wp9BdbB8HbTUCxFtZvd3K7BhWRCufb+D6skyaHs9CB7phI+ONVF+y7P/LKvQeFcxXqB67dhbAdX+KlQLa1sheKZD9jwt1c4h46IO/mWPQPNXP4KnA1RDYqiRtogWl0NxxsHUc7eynHbCkRRYHjcgdHIXXXs+NqyLClJkUKSqF4EgLWW/eQT+U020HGM863oQvsvzoL/HQ70FF9Lsx5B/v9KvnJsi9zCbzgTw1I1GWI+kwdGaL2e4QPUleSu6zr4A0zwfRDHR3vg3NB3fgLKnDUg5C1j2PgLTN25uugbuykZxzhz0vOyirkhN4qa6SgdzdQ0+w2gLBqBF2coU9O0j4aBzm3OUC4qIYkOFinqbcnwUQcETN49nhc/5EZmvA96nnt546dL9fQScVJlWHsRBYyzdVZh3jzC+6DxWHeYo7kf92Va4FljgsGoxcDKIipf0yBNxiO/5hiNIWZsP3WUvqnvUyLfrxxYFsuyajiYwjTnNiNLV8qjNJBMhq4IWd40Zu4QJeZvQ+vEtrwIaYylM9ysrCgnnMclVr0+MZ5XC5nTAINw41CA5zQWofv07yP+WYitGvGjc0YRg0WFYvpVChwnC+2YLwk/ZoKfL9J+h+kXHGDEmFs9szzu5FQuQaIkzjxGz62H000LzGVu76clTxVWbUwbLj0vj6m4+2iqWo2CpH4f/ywH1XbkozgQ6t1LWbd6A/EU69D/bjOZ7dNRSeuGcKL8PVcF52oQDLylj8eFo+gxb2iH0nJJrNrp/64Lm+w6U3z8Ab18FDujzRnogRJr2DdD1CUft9DBjopWSaabG24+GnZRBK4f9poFzIrGM0GpiuTX+eFbweBXqVS/Aca2FeooGOHLiLLGL9D9aGFKvw/M2Gds5VKnvHy7QwYC8FalfFr2KTsomatz/Lgz/B41wZehQnrMOpRnRfUejXW2B9qILJUcAk9MwrW4kzUoLNGEPqo5T7J/VIdp3VFxa1PCQgSAz7ngWNWD1T/uQ+y8pCEyQLl/+X27spcbb/JO4SSaRPnQLv8XGeZgnOhOK+1F9VwCdbzdBneGgymiBRd55FGoDLI9G4N1XQj1GM3aL2jMWYr/NBmUleVEbLCi9w8tINI/JREIX7YPVceNZc9X4R1Egj3cjEFkHNSVz5FQH6qiaGakuuQ4FoPqKFrrHDqJ5kchZP3wnaBFXB2/iC5Z34zEteaq4atXUKRwxniWsmsW0ON6EzjNkoT1KtaynAdUUlJsp6rgKmsxoWxQ5OVF++9BeI4TTgkylPY1Z2raYpU3WdJdoc6mzqjrXiZYmNTKeNsPwxJg1e9qZ2YkYfb3ooobRZNArDWMQfg8l6Oq84XtDxpsBRz1K1+sqfG+ZGiHq4ZGUjJj5FDzVTo22Cfkrv4T/Ldxki2j70GbqebxP/1mdD9OiME6fpN85+bDtPYyaAsBZXCm7J8O9ZPGNcwOd390Ej9qCDcY58L5BZrkSPiGT4B6UOddFtpAO2ZmKSCvuTd2juUrDM/5sy+DxRniMBkrLEFm5FDBOunx77mVap/1iJhgR8XWSRaqjXrIQMmrsRMHeuAEvvNQMW2YT7A/VwnsjgtDHfoTG6pB+4kHrwRCMj5Nld6ENrtPT6VRIFDXUOXStdB0zyi3zmIKosyV8ECPHs3rQKToWORpZsAThT0TpNCD3h6Uo3VwKy1oj9HIDRigWuVGfAVWfb9zyPqvz7lPxpZO9AGNyrzramMv7zSAJ5GlsNm7u10dPnhLjx7SgNidbaQijk8dMyP7GcB0VTJjfV/pIymhrTkw4FU+WGM9fEEDbER/CPVHPk3nDCzjQTNZZsx2r6qhdiITg/zg00pIWaZoyB3Oia9PCjIpW+Gw0g+b9XTQTIieb4Dy7DjXb8hEztEJnOm62GMLUg9hpRd2C78nipn3AQpU2gkgsNfva4NzXC/NeG/Lnfw26J6hKX6PtyubgUSecfzFHz0NZ2E29n9hMnTmy7alB6r0kMNvbMfZ9fH54XvNDtzEf+sutqL+sIssjART3YE0in21kwSh/G43/jJgXFoFKFU2R4NF6NGSWw/FkzCpSBGWUdRryOLHN1oc8KrAqEvmJ0uWbS7KhJ9mMxCZdhMW4hgvanzhQIVwbZMmKzsRQh0OkW04q1Fc9cO73ye6C0YS8v4OLKtkjK+fB+/rvgC8P5egsYh5S51N/NDiqck4zt87jmFdi1FhUXwAd8g/R9w7CZbXDpx6Vl0TkYhvsJXX40C/Gi0XnBvC8XAvfOFo0q/MuFKR2JA2ar4wTJ1UKUun6AleEE2zmSChPhauWbCT9V2MhxI0QPPuqUN2jR7nTBqM8TkkdUz+1nmKW66gxa/Xi8fPbl5KGJVTtIxQHORZ9brSItoIsbe2f2vFeWIXQWeF5GhZDIUiGfyDjgNoPpy++ZoeE3QHd4rSh+E8HfyNu1lJ+TzMReGu+hqKTRpiozs37nykIhpeg7CkLjGmUnB83oGhfByJBL3xk9ajvN0Ar6iZlYMAboOSiBvOlj3BwrWjaqbfwxg5sezMCo3EeAmENHnncjHWZSrN/3Y+mp7eh6YYRxpQAwl95BOaN66AXm8nEXrWmHfnvNKM8k857xYNqWxX8qkzoi55BxUoxIC8e41SJwaeaYZb9znS+QyUo+YMaufctgfmpUmWq8Oj9pgJqiIpXwH63CSYqP6mLIwim5MH2pBm6e0Nw76xE459jaaSBPidNLpyxdESGDUfeKZd92xOmCyFmA1bt8yPVqMUgGV5LHy1FvlEjF9DwCTsecgzimXcOYB0Jozy7rLwVYa0WedscsGTQXuIxTtsH4Wg0yz1dXHHD/v1a9Aur+Z9KUbE2zp07WYgngexrB/oD8J6jUqLWwrCYetqPU0dgLcVidJzGIPhWEVa8m4f3XRaSdoWQKBf18F/rg/e06MkqaZtjQ/Pmyb7LZ6I8pqhQvlS+QdbsWS8CdInCLbToYRsOl4h4iJle1MAdDWPRt6kh/24FbJTO/XJeBqB9TEctIzVoujyUPmqEpq8BBWtc0G8zwX/hH1HjXBdNF/EYJ7cef7Qbonk0DXnnf6MI1Sfo+pTritZ5DTZQJ06UsZvipBA8asWKY9l4/yDl15iRUtqayGH8sco4/N9ZlKfBY3bY3w6g76SP9lRDa9BCfVf0nyHqQKXlWFBcmg/j/Jg8+NGwZi3aHz6GZutoq4yON15+098jpxtg/Vk7UnOoXqfo8b1UH5yvBqD+tgEVz5Uhsu8h7Ig8gyNyWaC2rrkSP36XytNiii+1z7HJPcLV6FxoRbj+X7F75TTKlnyL8YzQLdU/nC6lP9cxa+5CH59En3QxDU/EEE/hEE96+M15JWAWk9DTJ6aZROIUe8pCUFmfbqY7j68NSAMDA9Lgp8q6YJwnYswoY8ZpQGp/Kn3k00vGYLDzRSlrmp4kMSZTkKeDo/NsuvHXS2uydkkdV5X1aWLm3IOKL30qb3z9PBIdx/h83QQ965ifh+IiH+pPTO/9JzGmPY/FTNuUFKiUnn1ScbEdLR9YhmYfj4fKkIeyzDq0npiZsbipyFPVjOYZWa+/rYeaLEXDkOU1PcyIaIU9ThQ96ZTHqnx1laiS76VibkXgLSuKdjbQLz9cv7CiQTzqhZkCUmAs/zkWveoc5+byqYPz+HYIw9NQh5RnS2G6ZcOpg+U5G/yOpjFvfJ9KPpd52tME5x+KUbFx+o2OGRzTSibEWNVyvHevA9lGE0pXjtFbEq8mcXehu82H7LqpHNNKIsT4UfZ7SLVnI9dUCuMMp4l4NYnb143Wj7Px6gRjWjHEq0l2vAjYDt56388dYvxo53mUr6O822iGfhqHLG5GvJrEBd9/d6L6nrKhMS0xDlR31QLHE7qEJwLIryY5mY3Do8bFmNtA3Jy8vQNaewVMYv7BNMOixTAMwyQNM3ufFsMwDMPcBixaDMMwTNLAosUwDMMkDSxaDMMwTNLAosUwDMMkDSxaDMMwTNLAosUwDMMkDSxaDMMwTNLAosUwDMMkDSxaDMMwTNLAosUwDMMkDSxaDMMwTNLAosUwDMMkDSxaDMMwTNLAosUwDMMkDfw+LSbpES8DtL/lQ8AbQEithWGxOrrhRgiBAGD48X688MRUv2E1DE/NDrT09MB9MgjL4T9it3HqX5AX6W2Ds6YF/Yv0mHPOC9XqGjgKJn71vCDc04baV/uR91Ip9HGvbA/3ehFU6aFTXu4X6fPDF9HAsGhG3wLJMMMI0WKYpCfYKm1JT5fWvNwlDSpBgktvbpLSKXzLu5eUkKml6+UsOt8WqfWyEjCVXOuU9mRlSbvaB+LW06UdsfWb6Jc6ni+UCgvXSw/Rfunpe6TO+MQiul4W4XEf4w6p8cx4x2OY6Yfdg8zngsiFbrhpqbt/pJWh0erkpS/Qh4j8ayohq8QdAnKykXGfEjSFhL3taAjpsfQbihU0V4fsVYDrmAcUizFQw/hsM5qbD6JimRI0BsYiBxz23Thw+Bg+aq+B5QG2spjZA4sW87nAf7qVvk3IjjXgMhF4f++ipR7F39VPsXuQuNKLrh4SzmU6aJSgqSTQ00TfGqjvja4DKUhJpcXxbgQ+g0JrTRaUbrZgnVEH9dR7OBnmtmDRYmYtkdN1qKwowdpcK5rcLlRVVKHaUYIChxtBZZ8oQQROCQtnKRbFGvBICN6DVlS69XCQZVGeqULwuB0lRQVYXlSHtmPVsG63o3K9Fa6Lyn8QRsBdB3tZJar203ba1ja0jbb+ZwPsxXZU76fjVFSj4VAD2nqG1SHs7yJrTw1Dpg6q6340bbfCXlEA67Gx7Z7PRgh9Z5WfN+FH8Iry8w4InmxAFaWNvaIS1ccClCoMM3tg0WJmKdTo7wzie08VQ3/Rjdr3Acve3XBUV8DwFonBW3GydeU0Ok6CrIJ+eN9okMWk4VUnan8LFNsdsBjUJGJeuF7ToMKai5DXicY/5cJmUsF72o32U+JYIXh2l2BVC2DeewC7tzng+AFQ+aZXdisGj1XiofJu6KsoDttq4DD4UV3TiuCQZkXgPyUsHz2WLOhH269aMc+Ui0G/D74/BW52TV7xwOkgYUjk85Zf+dPUo7pbA9UCE2x7a1DzUhnm/XoVHqqJpgHDzAqUsS2GmV0MdEktb3dJA75aKSs9S9rzoTJjYLBT2iMmCPyyc2jCxeCHe+RJA6MnIAzSf9dQ+JrXz0tSsEOqb+uWzr+7hfbdJLVcoB2unpc6O7ukS9fEYV+Uz7Pr9+IYg9IA7f9iYaFU66OzXG2Xdojj/Gp4koc84SJrj9RJ/43SLdWKyQ3f3SJtfb5e6uynoGvdUuuvW6SO4KjZDpNCv9RaLiZLjJxMEZ1IURi9vnEZ+79jkdjxGGb6YEuLmZ2k6GEu0CN4up1soFws1SmDK71+eGlhXJA2NEYVHc8yQv/VkRMGVF/RII2W/hM+BNOMKF2rQZ/PLU+U0ImJEvdqYTDooZkbge+DOjqPjo7vIkvNBU8gBfm1zVG3ouc9uITbb1ls2rwy4WLZEmjnygHART86KUi3QIXwHzvQ+JYX4bk6rNtshlGZPj65qJG2WPl5Ezpo7mQiyCde1FUUwX50pPMVlOKBYZOSYWYUFi1mFhNE7yk/sDobemWsKnimgyTDhDyDmHEgGJ6xJwtRHOH/7pRnFBpX6hHdOwD/+2KihB7aEToSRqiPFjm5sGwuVSYh0D7KOUN94ihxwkkC1dFDx83JxKC3CZ6LtA/FywsD8re9gMMvbAD2F6HyCDX+nwTg7R1jVGgS3IOaBSb6DsSNX4UQukALoxZ3pJOX/Wg/TgIV6FPGsSKIXBNLE5aQGDPMrECxuBhm9jHQIe0SrsCn2yXZ8afcl7T1zfPD92Ip92dl7R12FwoGzrZIW7Mo/Gct0vmYC+9Ci1RI++7quNkndv719VL6d+ulbmVduAgvte2QNr3cJfW1CZfiLqlDPs6A1PUy7ZteKNX7z0stm3ZI7VcHpc5fUjwfrpW6xKEvR+O0q2NA6v71esXlOAWMvi8rlj5tyj1pVzukPaYs6cGn2iXhrRxmPPdgt1T/mOI6FfS3S7vo+OspbafoChjmtuEnYjCzlsjJanyt2AvjajWQokHKxQEsKbPBYtRAdcOHhk1OdPSTJXOOLK35ehg0ijVwrQ99ZPWYf2iGebUeauWJD+ETVfimYwAHWw/AdJP7LAhPTRWqe7UwZ5D9cjkC3epS5NO5Umib2/EjVIf0MM4lC4csv0iLE+0Di6D7vgO7CyJoyluL9oePoPknYmp9CJ5fVKLqjypkfqsYz/zYOHVTx8kKrN5dj+B8A+aRBZhisqGiQEdxJq64UZlvhTenBkeqzdCoovGqPxdB30mfPANTk2lA2j25sP2z8mQM4SK0Ubp+qkK4PwL9YzbYfmQYSkOGmWlYtJhZi//wWqz9hR6Hu3fLYvGZuRFB+BrpXwq7uhgmWeExLWaWEoTfI8azlkI3GYIluEvFgsUwSQ6LFjP7CHvgLPoRnCfp96laVO50Yypuz2UYJvlg9yDDMAyTNLClxTAMwyQNLFoMwzBM0sCixTAMwyQNLFoMwzBM0sCixTAMwyQNLFoMwzBM0sCixTAMwyQNLFoMwzBM0sCixTAMwyQNLFoMwzBMkgD8fwCLoUnuPWwsAAAAAElFTkSuQmCC)"
      ],
      "metadata": {
        "id": "JnXNA8JwHoDL"
      }
    },
    {
      "cell_type": "code",
      "source": [
        "qid_query = pd.read_csv(\"qid_query.tsv\", sep=\"\\t\", names=[\"qid\", \"query\"])\n",
        "qid_url_rating = pd.read_csv(\"qid_url_rating.tsv\", sep=\"\\t\", names=[\"qid\", \"url\", \"rating\"])\n",
        "hostid_url = pd.read_csv(\"hostid_url.tsv\", sep=\"\\t\", names=[\"hostid\", \"url\"])\n",
        "\n",
        "# делаем join двух таблиц, чтобы было просто брать url с максимальным рейтингом\n",
        "qid_url_rating_hostid = pd.merge(qid_url_rating, hostid_url, on=\"url\")"
      ],
      "metadata": {
        "id": "ydMRAr_dI3Em"
      },
      "execution_count": null,
      "outputs": []
    },
    {
      "cell_type": "markdown",
      "source": [
        "#### Yandex implementation"
      ],
      "metadata": {
        "id": "B3AUGsiaI77o"
      }
    },
    {
      "cell_type": "code",
      "source": [
        "def plook(ind, rels):\n",
        "    if ind == 0:\n",
        "        return 1\n",
        "    return plook(ind - 1, rels) * (1 - rels[ind - 1]) * (1 - 0.15)\n",
        "\n",
        "\n",
        "def pfound(group):\n",
        "    max_by_host = group.groupby(\"hostid\")[\"rating\"].max()  # максимальный рейтинг хоста\n",
        "    top10 = max_by_host.sort_values(ascending=False)[:10]  # берем топ10 урлов с наивысшим рейтингом\n",
        "    res = 0\n",
        "    for ind, val in enumerate(top10):\n",
        "        res += val * plook(ind, top10.values)\n",
        "    return res\n",
        "\n",
        "start = timer()\n",
        "qid_pfound = qid_url_rating_hostid.groupby('qid').apply(pfound)\n",
        "end = timer()\n",
        "print(end - start, end='\\n\\n')\n",
        "qid_pfound"
      ],
      "metadata": {
        "colab": {
          "base_uri": "https://localhost:8080/"
        },
        "id": "8pHPB_LcGAsg",
        "outputId": "ca02242b-f1be-4173-976d-1836b55f6d3a"
      },
      "execution_count": null,
      "outputs": [
        {
          "output_type": "stream",
          "name": "stdout",
          "text": [
            "0.024655209999764338\n",
            "\n"
          ]
        },
        {
          "output_type": "execute_result",
          "data": {
            "text/plain": [
              "qid\n",
              "5308      0.415820\n",
              "48815     0.655448\n",
              "49587     0.493599\n",
              "55082     0.497771\n",
              "58989     0.497771\n",
              "60304     0.735836\n",
              "63179     0.460028\n",
              "70357     0.655448\n",
              "70618     0.263596\n",
              "79514     0.764755\n",
              "91889     0.344494\n",
              "99543     0.772245\n",
              "402111    0.324649\n",
              "405851    0.718072\n",
              "407522    0.460028\n",
              "409073    0.808643\n",
              "438518    0.497771\n",
              "690263    0.770353\n",
              "692059    0.655448\n",
              "692308    0.852628\n",
              "dtype: float64"
            ]
          },
          "metadata": {},
          "execution_count": 94
        }
      ]
    },
    {
      "cell_type": "markdown",
      "source": [
        "#### Vectorized implementation"
      ],
      "metadata": {
        "id": "AnvTVbQFJE54"
      }
    },
    {
      "cell_type": "code",
      "source": [
        "qid_url_rating_hostid.head()"
      ],
      "metadata": {
        "colab": {
          "base_uri": "https://localhost:8080/",
          "height": 206
        },
        "id": "dlOE-nc8GAvy",
        "outputId": "a436a9b6-9423-48d8-db03-622f16d8bd80"
      },
      "execution_count": null,
      "outputs": [
        {
          "output_type": "execute_result",
          "data": {
            "text/plain": [
              "      qid                                                url  rating  hostid\n",
              "0  402111  http://24-job.com/board/job_australia/232-1-2-...    0.07       7\n",
              "1  402111  http://24-job.com/board/job_australia/232-1-2-...    0.07       7\n",
              "2  402111           http://802351.info/5964-v-avstralii.html    0.00      13\n",
              "3  402111                 http://auscommunity.com/blog/jobs/    0.00      53\n",
              "4  402111  http://auscommunity.com/tag/%D1%84%D0%BE%D1%82...    0.00      53"
            ],
            "text/html": [
              "\n",
              "  <div id=\"df-973623c8-7263-43a1-8694-25a3e5e38cba\">\n",
              "    <div class=\"colab-df-container\">\n",
              "      <div>\n",
              "<style scoped>\n",
              "    .dataframe tbody tr th:only-of-type {\n",
              "        vertical-align: middle;\n",
              "    }\n",
              "\n",
              "    .dataframe tbody tr th {\n",
              "        vertical-align: top;\n",
              "    }\n",
              "\n",
              "    .dataframe thead th {\n",
              "        text-align: right;\n",
              "    }\n",
              "</style>\n",
              "<table border=\"1\" class=\"dataframe\">\n",
              "  <thead>\n",
              "    <tr style=\"text-align: right;\">\n",
              "      <th></th>\n",
              "      <th>qid</th>\n",
              "      <th>url</th>\n",
              "      <th>rating</th>\n",
              "      <th>hostid</th>\n",
              "    </tr>\n",
              "  </thead>\n",
              "  <tbody>\n",
              "    <tr>\n",
              "      <th>0</th>\n",
              "      <td>402111</td>\n",
              "      <td>http://24-job.com/board/job_australia/232-1-2-...</td>\n",
              "      <td>0.07</td>\n",
              "      <td>7</td>\n",
              "    </tr>\n",
              "    <tr>\n",
              "      <th>1</th>\n",
              "      <td>402111</td>\n",
              "      <td>http://24-job.com/board/job_australia/232-1-2-...</td>\n",
              "      <td>0.07</td>\n",
              "      <td>7</td>\n",
              "    </tr>\n",
              "    <tr>\n",
              "      <th>2</th>\n",
              "      <td>402111</td>\n",
              "      <td>http://802351.info/5964-v-avstralii.html</td>\n",
              "      <td>0.00</td>\n",
              "      <td>13</td>\n",
              "    </tr>\n",
              "    <tr>\n",
              "      <th>3</th>\n",
              "      <td>402111</td>\n",
              "      <td>http://auscommunity.com/blog/jobs/</td>\n",
              "      <td>0.00</td>\n",
              "      <td>53</td>\n",
              "    </tr>\n",
              "    <tr>\n",
              "      <th>4</th>\n",
              "      <td>402111</td>\n",
              "      <td>http://auscommunity.com/tag/%D1%84%D0%BE%D1%82...</td>\n",
              "      <td>0.00</td>\n",
              "      <td>53</td>\n",
              "    </tr>\n",
              "  </tbody>\n",
              "</table>\n",
              "</div>\n",
              "      <button class=\"colab-df-convert\" onclick=\"convertToInteractive('df-973623c8-7263-43a1-8694-25a3e5e38cba')\"\n",
              "              title=\"Convert this dataframe to an interactive table.\"\n",
              "              style=\"display:none;\">\n",
              "        \n",
              "  <svg xmlns=\"http://www.w3.org/2000/svg\" height=\"24px\"viewBox=\"0 0 24 24\"\n",
              "       width=\"24px\">\n",
              "    <path d=\"M0 0h24v24H0V0z\" fill=\"none\"/>\n",
              "    <path d=\"M18.56 5.44l.94 2.06.94-2.06 2.06-.94-2.06-.94-.94-2.06-.94 2.06-2.06.94zm-11 1L8.5 8.5l.94-2.06 2.06-.94-2.06-.94L8.5 2.5l-.94 2.06-2.06.94zm10 10l.94 2.06.94-2.06 2.06-.94-2.06-.94-.94-2.06-.94 2.06-2.06.94z\"/><path d=\"M17.41 7.96l-1.37-1.37c-.4-.4-.92-.59-1.43-.59-.52 0-1.04.2-1.43.59L10.3 9.45l-7.72 7.72c-.78.78-.78 2.05 0 2.83L4 21.41c.39.39.9.59 1.41.59.51 0 1.02-.2 1.41-.59l7.78-7.78 2.81-2.81c.8-.78.8-2.07 0-2.86zM5.41 20L4 18.59l7.72-7.72 1.47 1.35L5.41 20z\"/>\n",
              "  </svg>\n",
              "      </button>\n",
              "      \n",
              "  <style>\n",
              "    .colab-df-container {\n",
              "      display:flex;\n",
              "      flex-wrap:wrap;\n",
              "      gap: 12px;\n",
              "    }\n",
              "\n",
              "    .colab-df-convert {\n",
              "      background-color: #E8F0FE;\n",
              "      border: none;\n",
              "      border-radius: 50%;\n",
              "      cursor: pointer;\n",
              "      display: none;\n",
              "      fill: #1967D2;\n",
              "      height: 32px;\n",
              "      padding: 0 0 0 0;\n",
              "      width: 32px;\n",
              "    }\n",
              "\n",
              "    .colab-df-convert:hover {\n",
              "      background-color: #E2EBFA;\n",
              "      box-shadow: 0px 1px 2px rgba(60, 64, 67, 0.3), 0px 1px 3px 1px rgba(60, 64, 67, 0.15);\n",
              "      fill: #174EA6;\n",
              "    }\n",
              "\n",
              "    [theme=dark] .colab-df-convert {\n",
              "      background-color: #3B4455;\n",
              "      fill: #D2E3FC;\n",
              "    }\n",
              "\n",
              "    [theme=dark] .colab-df-convert:hover {\n",
              "      background-color: #434B5C;\n",
              "      box-shadow: 0px 1px 3px 1px rgba(0, 0, 0, 0.15);\n",
              "      filter: drop-shadow(0px 1px 2px rgba(0, 0, 0, 0.3));\n",
              "      fill: #FFFFFF;\n",
              "    }\n",
              "  </style>\n",
              "\n",
              "      <script>\n",
              "        const buttonEl =\n",
              "          document.querySelector('#df-973623c8-7263-43a1-8694-25a3e5e38cba button.colab-df-convert');\n",
              "        buttonEl.style.display =\n",
              "          google.colab.kernel.accessAllowed ? 'block' : 'none';\n",
              "\n",
              "        async function convertToInteractive(key) {\n",
              "          const element = document.querySelector('#df-973623c8-7263-43a1-8694-25a3e5e38cba');\n",
              "          const dataTable =\n",
              "            await google.colab.kernel.invokeFunction('convertToInteractive',\n",
              "                                                     [key], {});\n",
              "          if (!dataTable) return;\n",
              "\n",
              "          const docLinkHtml = 'Like what you see? Visit the ' +\n",
              "            '<a target=\"_blank\" href=https://colab.research.google.com/notebooks/data_table.ipynb>data table notebook</a>'\n",
              "            + ' to learn more about interactive tables.';\n",
              "          element.innerHTML = '';\n",
              "          dataTable['output_type'] = 'display_data';\n",
              "          await google.colab.output.renderOutput(dataTable, element);\n",
              "          const docLink = document.createElement('div');\n",
              "          docLink.innerHTML = docLinkHtml;\n",
              "          element.appendChild(docLink);\n",
              "        }\n",
              "      </script>\n",
              "    </div>\n",
              "  </div>\n",
              "  "
            ]
          },
          "metadata": {},
          "execution_count": 9
        }
      ]
    },
    {
      "cell_type": "code",
      "source": [
        "def vectorized_pfound(data, p_break=0.15, k=10):\n",
        "  top_k_for_qid = data.groupby(['qid', 'hostid'])['rating'].max().reset_index().groupby('qid')['rating'].nlargest(k).reset_index().drop('level_1', axis=1)\n",
        "\n",
        "  top_k_for_qid['rank'] = top_k_for_qid.groupby('qid').cumcount() + 1\n",
        "\n",
        "  top_k_for_qid['1-pRel'] = (1 - top_k_for_qid['rating']).shift(1)\n",
        "  top_k_for_qid['1-pBreak'] = 1 - p_break\n",
        "  top_k_for_qid.loc[top_k_for_qid['rank'] == 1, '1-pRel'] = 1\n",
        "  top_k_for_qid.loc[top_k_for_qid['rank'] == 1, '1-pBreak'] = 1\n",
        "\n",
        "  top_k_for_qid['coef'] = top_k_for_qid['1-pBreak'] * top_k_for_qid['1-pRel']\n",
        "  top_k_for_qid['pLook'] = top_k_for_qid.groupby('qid')['coef'].cumprod()\n",
        "  top_k_for_qid['mult'] = top_k_for_qid['pLook'] * top_k_for_qid['rating'] \n",
        "  return top_k_for_qid.groupby('qid').sum()['mult']"
      ],
      "metadata": {
        "id": "BOADnbmBVqlp"
      },
      "execution_count": null,
      "outputs": []
    },
    {
      "cell_type": "code",
      "source": [
        "start = timer()\n",
        "res = vectorized_pfound(qid_url_rating_hostid)\n",
        "end = timer()\n",
        "print(end - start, end='\\n\\n')\n",
        "res"
      ],
      "metadata": {
        "colab": {
          "base_uri": "https://localhost:8080/"
        },
        "id": "N0pP-zk9WGzx",
        "outputId": "aaf8bce8-7faa-4056-8555-c32fc8a7ff99"
      },
      "execution_count": null,
      "outputs": [
        {
          "output_type": "stream",
          "name": "stdout",
          "text": [
            "0.02788820499972644\n",
            "\n"
          ]
        },
        {
          "output_type": "execute_result",
          "data": {
            "text/plain": [
              "qid\n",
              "5308      0.415820\n",
              "48815     0.655448\n",
              "49587     0.493599\n",
              "55082     0.497771\n",
              "58989     0.497771\n",
              "60304     0.735836\n",
              "63179     0.460028\n",
              "70357     0.655448\n",
              "70618     0.263596\n",
              "79514     0.764755\n",
              "91889     0.344494\n",
              "99543     0.772245\n",
              "402111    0.324649\n",
              "405851    0.718072\n",
              "407522    0.460028\n",
              "409073    0.808643\n",
              "438518    0.497771\n",
              "690263    0.770353\n",
              "692059    0.655448\n",
              "692308    0.852628\n",
              "Name: mult, dtype: float64"
            ]
          },
          "metadata": {},
          "execution_count": 98
        }
      ]
    },
    {
      "cell_type": "markdown",
      "source": [
        "### MRR - Mean Reciprocal Rank\n",
        "\n",
        "![image.png](data:image/png;base64,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)"
      ],
      "metadata": {
        "id": "IpYWp33wXGQ1"
      }
    },
    {
      "cell_type": "code",
      "source": [
        "interactions = pd.read_csv('interactions.csv')\n",
        "\n",
        "interactions.rename(\n",
        "    columns={\n",
        "        'track_id': 'item_id',\n",
        "        'last_watch_dt': 'date',\n",
        "        'total_dur': 'weight'\n",
        "    }, \n",
        "    inplace=True) \n",
        "\n",
        "interactions['date'] = pd.to_datetime(interactions['date'])\n",
        "users = pd.read_csv('users.csv')\n",
        "items = pd.read_csv('items.csv')"
      ],
      "metadata": {
        "id": "TGSjYiGiYCyw"
      },
      "execution_count": null,
      "outputs": []
    },
    {
      "cell_type": "code",
      "source": [
        "def get_df(n_users, top_k):\n",
        "  sample_users = np.random.choice(interactions['user_id'].unique(), n_users)\n",
        "  df = interactions[interactions['user_id'].isin(sample_users)].reset_index(drop=True)\n",
        "  recs = np.random.choice(df['item_id'], size=(n_users, top_k))\n",
        "  return sample_users, df.drop(['date', 'weight', 'watched_pct'], axis=1).values, recs"
      ],
      "metadata": {
        "id": "LsWkn20EZlnH"
      },
      "execution_count": null,
      "outputs": []
    },
    {
      "cell_type": "markdown",
      "source": [
        "#### Naive version"
      ],
      "metadata": {
        "id": "tZWsQO5nXUkl"
      }
    },
    {
      "cell_type": "code",
      "source": [
        "def naive_mrr(users, target, recs):\n",
        "  res = []\n",
        "  for i, user in enumerate(users):\n",
        "    current_target = target[target[:, 0] == user][:, 1]\n",
        "    user_rank = 0\n",
        "    for j, rec in enumerate(recs):\n",
        "      if j in current_target:\n",
        "        user_rank = 1 / (j + 1)\n",
        "        break\n",
        "      res.append(user_rank)\n",
        "  return np.array(res).mean()"
      ],
      "metadata": {
        "id": "a5yPBMiqGA3a"
      },
      "execution_count": null,
      "outputs": []
    },
    {
      "cell_type": "code",
      "source": [
        "naive_mrr(*get_df(10, 10))"
      ],
      "metadata": {
        "colab": {
          "base_uri": "https://localhost:8080/"
        },
        "id": "5Y2_1_oBcXD2",
        "outputId": "95425fe6-4d28-450f-eadd-7123525da4ce"
      },
      "execution_count": null,
      "outputs": [
        {
          "output_type": "execute_result",
          "data": {
            "text/plain": [
              "0.0"
            ]
          },
          "metadata": {},
          "execution_count": 176
        }
      ]
    },
    {
      "cell_type": "markdown",
      "source": [
        "#### Numba version"
      ],
      "metadata": {
        "id": "hmmlUdCEXX2t"
      }
    },
    {
      "cell_type": "code",
      "source": [
        "@nb.njit(cache=True, parallel=True)\n",
        "def numba_mrr(users, target, recs):\n",
        "  res = np.zeros(len(users))\n",
        "  for i in nb.prange(len(users)):\n",
        "    user = users[i]\n",
        "    user_target = target[target[:, 0] == user][:, 1]\n",
        "    user_rank = 0\n",
        "    for j, rec in enumerate(recs[i]):\n",
        "      if rec in user_target:\n",
        "        user_rank = 1 / (j + 1)\n",
        "        res[i] = user_rank\n",
        "  return res.mean()"
      ],
      "metadata": {
        "id": "5IKEDPZcGA6D"
      },
      "execution_count": null,
      "outputs": []
    },
    {
      "cell_type": "code",
      "source": [
        "numba_mrr(*get_df(10, 10))"
      ],
      "metadata": {
        "colab": {
          "base_uri": "https://localhost:8080/"
        },
        "id": "m9dVm_HkfUVg",
        "outputId": "53bdf118-7089-441d-e007-5367134aa252"
      },
      "execution_count": null,
      "outputs": [
        {
          "output_type": "execute_result",
          "data": {
            "text/plain": [
              "0.12027777777777778"
            ]
          },
          "metadata": {},
          "execution_count": 141
        }
      ]
    },
    {
      "cell_type": "markdown",
      "source": [
        "#### Pandas version"
      ],
      "metadata": {
        "id": "Kxn6-KbOXY1X"
      }
    },
    {
      "cell_type": "code",
      "source": [
        "def pandas_mrr(users, target, recs):\n",
        "  df_recs = pd.DataFrame({\n",
        "          'user_id': np.repeat(users, recs.shape[0]),\n",
        "          'item_id': recs.ravel()\n",
        "  })\n",
        "  df_recs['rank'] = df_recs.groupby('user_id').cumcount() + 1\n",
        "  df_recs = target.merge(df_recs, how='left', left_on=['user_id', 'item_id'], right_on=['user_id', 'item_id'])\n",
        "  \n",
        "  first_ranks = df_recs.groupby('user_id').first()\n",
        "  first_ranks['mrr'] = 1 / first_ranks['rank']\n",
        "  first_ranks['mrr'] = first_ranks['mrr'].fillna(0)\n",
        "  return first_ranks['mrr'].mean()"
      ],
      "metadata": {
        "id": "U69iTsj4e4DB"
      },
      "execution_count": null,
      "outputs": []
    },
    {
      "cell_type": "code",
      "source": [
        "users, target, recs = get_df(10, 10)\n",
        "target = pd.DataFrame(target, columns=['user_id', 'item_id'])\n",
        "pandas_mrr(users, target, recs)"
      ],
      "metadata": {
        "colab": {
          "base_uri": "https://localhost:8080/"
        },
        "id": "8wlm1F5Yf2Zu",
        "outputId": "8959a676-d4c8-4319-c865-be2a08e594a9"
      },
      "execution_count": null,
      "outputs": [
        {
          "output_type": "execute_result",
          "data": {
            "text/plain": [
              "0.2277777777777778"
            ]
          },
          "metadata": {},
          "execution_count": 160
        }
      ]
    },
    {
      "cell_type": "markdown",
      "source": [
        "#### Comparison"
      ],
      "metadata": {
        "id": "okyfGsL0f3WX"
      }
    },
    {
      "cell_type": "code",
      "source": [
        "users_count = [100, 1000, 10000, 100000]\n",
        "top_k = [10, 50, 100]\n",
        "res = []\n",
        "\n",
        "for u_count, k in list(product(users_count, top_k)):\n",
        "  for algo in [naive_mrr, numba_mrr, pandas_mrr]:\n",
        "    algo_name =  algo.__name__\n",
        "    if algo.__name__ == 'pandas_mrr':\n",
        "      users, target, recs = get_df(10, 10)\n",
        "      target = pd.DataFrame(target, columns=['user_id', 'item_id'])\n",
        "      start = timer()\n",
        "      pandas_mrr(users, target, recs)\n",
        "      end = timer()\n",
        "    else:\n",
        "      start = timer()\n",
        "      algo(*get_df(10, 10))\n",
        "      end = timer()\n",
        "    res.append({\n",
        "        'top_k': k,\n",
        "        'users_count': u_count,\n",
        "        'algo': algo_name,\n",
        "        'time': end - start\n",
        "    })\n",
        "\n",
        "res = pd.DataFrame(res)"
      ],
      "metadata": {
        "id": "x3YTbTkRf2cs"
      },
      "execution_count": null,
      "outputs": []
    },
    {
      "cell_type": "code",
      "source": [
        "res.head()"
      ],
      "metadata": {
        "colab": {
          "base_uri": "https://localhost:8080/",
          "height": 206
        },
        "id": "jXiL9lRyp8p_",
        "outputId": "c648cd49-e188-4b5d-b84f-bd02b470e33a"
      },
      "execution_count": null,
      "outputs": [
        {
          "output_type": "execute_result",
          "data": {
            "text/plain": [
              "   top_k  users_count        algo      time\n",
              "0     10          100   naive_mrr  1.796344\n",
              "1     10          100   numba_mrr  3.089606\n",
              "2     10          100  pandas_mrr  0.007727\n",
              "3     50          100   naive_mrr  0.283906\n",
              "4     50          100   numba_mrr  0.288884"
            ],
            "text/html": [
              "\n",
              "  <div id=\"df-0cffed6f-5661-426c-81ac-a716979f8c60\">\n",
              "    <div class=\"colab-df-container\">\n",
              "      <div>\n",
              "<style scoped>\n",
              "    .dataframe tbody tr th:only-of-type {\n",
              "        vertical-align: middle;\n",
              "    }\n",
              "\n",
              "    .dataframe tbody tr th {\n",
              "        vertical-align: top;\n",
              "    }\n",
              "\n",
              "    .dataframe thead th {\n",
              "        text-align: right;\n",
              "    }\n",
              "</style>\n",
              "<table border=\"1\" class=\"dataframe\">\n",
              "  <thead>\n",
              "    <tr style=\"text-align: right;\">\n",
              "      <th></th>\n",
              "      <th>top_k</th>\n",
              "      <th>users_count</th>\n",
              "      <th>algo</th>\n",
              "      <th>time</th>\n",
              "    </tr>\n",
              "  </thead>\n",
              "  <tbody>\n",
              "    <tr>\n",
              "      <th>0</th>\n",
              "      <td>10</td>\n",
              "      <td>100</td>\n",
              "      <td>naive_mrr</td>\n",
              "      <td>1.796344</td>\n",
              "    </tr>\n",
              "    <tr>\n",
              "      <th>1</th>\n",
              "      <td>10</td>\n",
              "      <td>100</td>\n",
              "      <td>numba_mrr</td>\n",
              "      <td>3.089606</td>\n",
              "    </tr>\n",
              "    <tr>\n",
              "      <th>2</th>\n",
              "      <td>10</td>\n",
              "      <td>100</td>\n",
              "      <td>pandas_mrr</td>\n",
              "      <td>0.007727</td>\n",
              "    </tr>\n",
              "    <tr>\n",
              "      <th>3</th>\n",
              "      <td>50</td>\n",
              "      <td>100</td>\n",
              "      <td>naive_mrr</td>\n",
              "      <td>0.283906</td>\n",
              "    </tr>\n",
              "    <tr>\n",
              "      <th>4</th>\n",
              "      <td>50</td>\n",
              "      <td>100</td>\n",
              "      <td>numba_mrr</td>\n",
              "      <td>0.288884</td>\n",
              "    </tr>\n",
              "  </tbody>\n",
              "</table>\n",
              "</div>\n",
              "      <button class=\"colab-df-convert\" onclick=\"convertToInteractive('df-0cffed6f-5661-426c-81ac-a716979f8c60')\"\n",
              "              title=\"Convert this dataframe to an interactive table.\"\n",
              "              style=\"display:none;\">\n",
              "        \n",
              "  <svg xmlns=\"http://www.w3.org/2000/svg\" height=\"24px\"viewBox=\"0 0 24 24\"\n",
              "       width=\"24px\">\n",
              "    <path d=\"M0 0h24v24H0V0z\" fill=\"none\"/>\n",
              "    <path d=\"M18.56 5.44l.94 2.06.94-2.06 2.06-.94-2.06-.94-.94-2.06-.94 2.06-2.06.94zm-11 1L8.5 8.5l.94-2.06 2.06-.94-2.06-.94L8.5 2.5l-.94 2.06-2.06.94zm10 10l.94 2.06.94-2.06 2.06-.94-2.06-.94-.94-2.06-.94 2.06-2.06.94z\"/><path d=\"M17.41 7.96l-1.37-1.37c-.4-.4-.92-.59-1.43-.59-.52 0-1.04.2-1.43.59L10.3 9.45l-7.72 7.72c-.78.78-.78 2.05 0 2.83L4 21.41c.39.39.9.59 1.41.59.51 0 1.02-.2 1.41-.59l7.78-7.78 2.81-2.81c.8-.78.8-2.07 0-2.86zM5.41 20L4 18.59l7.72-7.72 1.47 1.35L5.41 20z\"/>\n",
              "  </svg>\n",
              "      </button>\n",
              "      \n",
              "  <style>\n",
              "    .colab-df-container {\n",
              "      display:flex;\n",
              "      flex-wrap:wrap;\n",
              "      gap: 12px;\n",
              "    }\n",
              "\n",
              "    .colab-df-convert {\n",
              "      background-color: #E8F0FE;\n",
              "      border: none;\n",
              "      border-radius: 50%;\n",
              "      cursor: pointer;\n",
              "      display: none;\n",
              "      fill: #1967D2;\n",
              "      height: 32px;\n",
              "      padding: 0 0 0 0;\n",
              "      width: 32px;\n",
              "    }\n",
              "\n",
              "    .colab-df-convert:hover {\n",
              "      background-color: #E2EBFA;\n",
              "      box-shadow: 0px 1px 2px rgba(60, 64, 67, 0.3), 0px 1px 3px 1px rgba(60, 64, 67, 0.15);\n",
              "      fill: #174EA6;\n",
              "    }\n",
              "\n",
              "    [theme=dark] .colab-df-convert {\n",
              "      background-color: #3B4455;\n",
              "      fill: #D2E3FC;\n",
              "    }\n",
              "\n",
              "    [theme=dark] .colab-df-convert:hover {\n",
              "      background-color: #434B5C;\n",
              "      box-shadow: 0px 1px 3px 1px rgba(0, 0, 0, 0.15);\n",
              "      filter: drop-shadow(0px 1px 2px rgba(0, 0, 0, 0.3));\n",
              "      fill: #FFFFFF;\n",
              "    }\n",
              "  </style>\n",
              "\n",
              "      <script>\n",
              "        const buttonEl =\n",
              "          document.querySelector('#df-0cffed6f-5661-426c-81ac-a716979f8c60 button.colab-df-convert');\n",
              "        buttonEl.style.display =\n",
              "          google.colab.kernel.accessAllowed ? 'block' : 'none';\n",
              "\n",
              "        async function convertToInteractive(key) {\n",
              "          const element = document.querySelector('#df-0cffed6f-5661-426c-81ac-a716979f8c60');\n",
              "          const dataTable =\n",
              "            await google.colab.kernel.invokeFunction('convertToInteractive',\n",
              "                                                     [key], {});\n",
              "          if (!dataTable) return;\n",
              "\n",
              "          const docLinkHtml = 'Like what you see? Visit the ' +\n",
              "            '<a target=\"_blank\" href=https://colab.research.google.com/notebooks/data_table.ipynb>data table notebook</a>'\n",
              "            + ' to learn more about interactive tables.';\n",
              "          element.innerHTML = '';\n",
              "          dataTable['output_type'] = 'display_data';\n",
              "          await google.colab.output.renderOutput(dataTable, element);\n",
              "          const docLink = document.createElement('div');\n",
              "          docLink.innerHTML = docLinkHtml;\n",
              "          element.appendChild(docLink);\n",
              "        }\n",
              "      </script>\n",
              "    </div>\n",
              "  </div>\n",
              "  "
            ]
          },
          "metadata": {},
          "execution_count": 180
        }
      ]
    },
    {
      "cell_type": "code",
      "source": [
        "res['log_time'] = np.log(res['time'])"
      ],
      "metadata": {
        "id": "C7YN5CMB7t0I"
      },
      "execution_count": null,
      "outputs": []
    },
    {
      "cell_type": "code",
      "source": [
        "sns.axes_style('whitegrid');"
      ],
      "metadata": {
        "id": "Sjr9OrwyD2pv"
      },
      "execution_count": null,
      "outputs": []
    },
    {
      "cell_type": "code",
      "source": [
        "def plot(need_log=False, y_lim=(0, 0.4)):\n",
        "  time_col = 'log_time' if need_log else 'time'\n",
        "  g = sns.FacetGrid(res, col=\"top_k\", hue='algo')\n",
        "  g.figure.set_size_inches(15, 4)\n",
        "  g.map(sns.lineplot, \"users_count\", time_col, marker=\"o\")\n",
        "  g.set(ylim=y_lim)\n",
        "  g.add_legend();"
      ],
      "metadata": {
        "id": "HPhDvPVhFZSe"
      },
      "execution_count": null,
      "outputs": []
    },
    {
      "cell_type": "code",
      "source": [
        "plot()"
      ],
      "metadata": {
        "colab": {
          "base_uri": "https://localhost:8080/",
          "height": 293
        },
        "id": "P9JSTZ3p6gTA",
        "outputId": "a8b27bbf-2d07-47b7-a973-af818f244d25"
      },
      "execution_count": null,
      "outputs": [
        {
          "output_type": "display_data",
          "data": {
            "text/plain": [
              "<Figure size 1185.1x288 with 3 Axes>"
            ],
            "image/png": "[encoded data removed]"
          },
          "metadata": {}
        }
      ]
    },
    {
      "cell_type": "markdown",
      "source": [
        "### UsersKFoldLeavePOut validation"
      ],
      "metadata": {
        "id": "rm6kf_GPGfR6"
      }
    },
    {
      "cell_type": "code",
      "source": [
        "data = []\n",
        "\n",
        "with open('train', 'r') as f:\n",
        "   for i, line in enumerate(f.readlines()[:100000]):\n",
        "     for item_id in line.split():\n",
        "        item_id = int(item_id)\n",
        "        data.append({\n",
        "            'user_id': i,\n",
        "            'item_id': item_id\n",
        "        })"
      ],
      "metadata": {
        "id": "pZDbugTlXxb-"
      },
      "execution_count": 15,
      "outputs": []
    },
    {
      "cell_type": "code",
      "source": [
        "data = pd.DataFrame(data, columns = ['user_id', 'item_id'])\n",
        "data.head()"
      ],
      "metadata": {
        "id": "1F5d40fwQv1W",
        "colab": {
          "base_uri": "https://localhost:8080/",
          "height": 206
        },
        "outputId": "4f5ef86a-2005-43d0-c7f5-7d75c141bd53"
      },
      "execution_count": 17,
      "outputs": [
        {
          "output_type": "execute_result",
          "data": {
            "text/plain": [
              "   user_id  item_id\n",
              "0        0   333396\n",
              "1        0   267089\n",
              "2        0   155959\n",
              "3        0   353335\n",
              "4        0   414000"
            ],
            "text/html": [
              "\n",
              "  <div id=\"df-5e2902bc-3b3a-485e-ba8e-e020de8383cb\">\n",
              "    <div class=\"colab-df-container\">\n",
              "      <div>\n",
              "<style scoped>\n",
              "    .dataframe tbody tr th:only-of-type {\n",
              "        vertical-align: middle;\n",
              "    }\n",
              "\n",
              "    .dataframe tbody tr th {\n",
              "        vertical-align: top;\n",
              "    }\n",
              "\n",
              "    .dataframe thead th {\n",
              "        text-align: right;\n",
              "    }\n",
              "</style>\n",
              "<table border=\"1\" class=\"dataframe\">\n",
              "  <thead>\n",
              "    <tr style=\"text-align: right;\">\n",
              "      <th></th>\n",
              "      <th>user_id</th>\n",
              "      <th>item_id</th>\n",
              "    </tr>\n",
              "  </thead>\n",
              "  <tbody>\n",
              "    <tr>\n",
              "      <th>0</th>\n",
              "      <td>0</td>\n",
              "      <td>333396</td>\n",
              "    </tr>\n",
              "    <tr>\n",
              "      <th>1</th>\n",
              "      <td>0</td>\n",
              "      <td>267089</td>\n",
              "    </tr>\n",
              "    <tr>\n",
              "      <th>2</th>\n",
              "      <td>0</td>\n",
              "      <td>155959</td>\n",
              "    </tr>\n",
              "    <tr>\n",
              "      <th>3</th>\n",
              "      <td>0</td>\n",
              "      <td>353335</td>\n",
              "    </tr>\n",
              "    <tr>\n",
              "      <th>4</th>\n",
              "      <td>0</td>\n",
              "      <td>414000</td>\n",
              "    </tr>\n",
              "  </tbody>\n",
              "</table>\n",
              "</div>\n",
              "      <button class=\"colab-df-convert\" onclick=\"convertToInteractive('df-5e2902bc-3b3a-485e-ba8e-e020de8383cb')\"\n",
              "              title=\"Convert this dataframe to an interactive table.\"\n",
              "              style=\"display:none;\">\n",
              "        \n",
              "  <svg xmlns=\"http://www.w3.org/2000/svg\" height=\"24px\"viewBox=\"0 0 24 24\"\n",
              "       width=\"24px\">\n",
              "    <path d=\"M0 0h24v24H0V0z\" fill=\"none\"/>\n",
              "    <path d=\"M18.56 5.44l.94 2.06.94-2.06 2.06-.94-2.06-.94-.94-2.06-.94 2.06-2.06.94zm-11 1L8.5 8.5l.94-2.06 2.06-.94-2.06-.94L8.5 2.5l-.94 2.06-2.06.94zm10 10l.94 2.06.94-2.06 2.06-.94-2.06-.94-.94-2.06-.94 2.06-2.06.94z\"/><path d=\"M17.41 7.96l-1.37-1.37c-.4-.4-.92-.59-1.43-.59-.52 0-1.04.2-1.43.59L10.3 9.45l-7.72 7.72c-.78.78-.78 2.05 0 2.83L4 21.41c.39.39.9.59 1.41.59.51 0 1.02-.2 1.41-.59l7.78-7.78 2.81-2.81c.8-.78.8-2.07 0-2.86zM5.41 20L4 18.59l7.72-7.72 1.47 1.35L5.41 20z\"/>\n",
              "  </svg>\n",
              "      </button>\n",
              "      \n",
              "  <style>\n",
              "    .colab-df-container {\n",
              "      display:flex;\n",
              "      flex-wrap:wrap;\n",
              "      gap: 12px;\n",
              "    }\n",
              "\n",
              "    .colab-df-convert {\n",
              "      background-color: #E8F0FE;\n",
              "      border: none;\n",
              "      border-radius: 50%;\n",
              "      cursor: pointer;\n",
              "      display: none;\n",
              "      fill: #1967D2;\n",
              "      height: 32px;\n",
              "      padding: 0 0 0 0;\n",
              "      width: 32px;\n",
              "    }\n",
              "\n",
              "    .colab-df-convert:hover {\n",
              "      background-color: #E2EBFA;\n",
              "      box-shadow: 0px 1px 2px rgba(60, 64, 67, 0.3), 0px 1px 3px 1px rgba(60, 64, 67, 0.15);\n",
              "      fill: #174EA6;\n",
              "    }\n",
              "\n",
              "    [theme=dark] .colab-df-convert {\n",
              "      background-color: #3B4455;\n",
              "      fill: #D2E3FC;\n",
              "    }\n",
              "\n",
              "    [theme=dark] .colab-df-convert:hover {\n",
              "      background-color: #434B5C;\n",
              "      box-shadow: 0px 1px 3px 1px rgba(0, 0, 0, 0.15);\n",
              "      filter: drop-shadow(0px 1px 2px rgba(0, 0, 0, 0.3));\n",
              "      fill: #FFFFFF;\n",
              "    }\n",
              "  </style>\n",
              "\n",
              "      <script>\n",
              "        const buttonEl =\n",
              "          document.querySelector('#df-5e2902bc-3b3a-485e-ba8e-e020de8383cb button.colab-df-convert');\n",
              "        buttonEl.style.display =\n",
              "          google.colab.kernel.accessAllowed ? 'block' : 'none';\n",
              "\n",
              "        async function convertToInteractive(key) {\n",
              "          const element = document.querySelector('#df-5e2902bc-3b3a-485e-ba8e-e020de8383cb');\n",
              "          const dataTable =\n",
              "            await google.colab.kernel.invokeFunction('convertToInteractive',\n",
              "                                                     [key], {});\n",
              "          if (!dataTable) return;\n",
              "\n",
              "          const docLinkHtml = 'Like what you see? Visit the ' +\n",
              "            '<a target=\"_blank\" href=https://colab.research.google.com/notebooks/data_table.ipynb>data table notebook</a>'\n",
              "            + ' to learn more about interactive tables.';\n",
              "          element.innerHTML = '';\n",
              "          dataTable['output_type'] = 'display_data';\n",
              "          await google.colab.output.renderOutput(dataTable, element);\n",
              "          const docLink = document.createElement('div');\n",
              "          docLink.innerHTML = docLinkHtml;\n",
              "          element.appendChild(docLink);\n",
              "        }\n",
              "      </script>\n",
              "    </div>\n",
              "  </div>\n",
              "  "
            ]
          },
          "metadata": {},
          "execution_count": 17
        }
      ]
    },
    {
      "cell_type": "code",
      "source": [
        "class UsersKFoldPOut():\n",
        "    def __init__(self, n_folds, p, random_seed=23, user_column='user_id'):\n",
        "        self.n_folds = n_folds\n",
        "        self.random_seed = random_seed\n",
        "        self.user_column = user_column \n",
        "        self.p = p\n",
        "    \n",
        "    def split(self, df):\n",
        "        users = df[self.user_column].unique()\n",
        "        users_count = len(users)\n",
        "        \n",
        "        np.random.seed(self.random_seed)\n",
        "        np.random.shuffle(users)\n",
        "        \n",
        "        fold_sizes = np.full(self.n_folds, users_count // self.n_folds, dtype=int)\n",
        "        fold_sizes[: users_count % self.n_folds] += 1\n",
        "        current = 0\n",
        "        like_order = df.groupby(self.user_column).cumcount()\n",
        "        for fold_size in fold_sizes:\n",
        "            start, stop = current, current + fold_size\n",
        "            test_fold_users = users[start:stop]\n",
        "            test_mask = df[self.user_column].isin(test_fold_users) & (like_order < self.p)\n",
        "            train_mask = ~df[self.user_column].isin(test_fold_users)\n",
        "            \n",
        "            yield train_mask, test_mask"
      ],
      "metadata": {
        "id": "GyNqK9xFGe9y"
      },
      "execution_count": 26,
      "outputs": []
    },
    {
      "cell_type": "code",
      "source": [
        "p = 5\n",
        "cv = UsersKFoldPOut(n_folds=3, p=p)\n",
        "\n",
        "for i, (train_mask, test_mask) in enumerate(cv.split(data)):\n",
        "    train = data[train_mask]\n",
        "    test = data[test_mask]\n",
        "    print(f'Fold#{i} | Train: {train.shape[0]}, Test: {test.shape[0]}')\n",
        "\n",
        "    assert len(set(train['user_id'].unique()).intersection(test['user_id'].unique())) == 0, 'Train and test intersect'\n",
        "    assert test.groupby('user_id').count().max()[0] <= p, 'Test part has more than p items'"
      ],
      "metadata": {
        "id": "8yo1HcGUGfBZ",
        "colab": {
          "base_uri": "https://localhost:8080/"
        },
        "outputId": "a71c609c-f219-4250-ddab-76a6c951ff3b"
      },
      "execution_count": 36,
      "outputs": [
        {
          "output_type": "stream",
          "name": "stdout",
          "text": [
            "Fold#0 | Train: 5427560, Test: 166670\n",
            "Fold#1 | Train: 5427571, Test: 166665\n",
            "Fold#2 | Train: 5427571, Test: 166665\n"
          ]
        }
      ]
    }
  ]
}