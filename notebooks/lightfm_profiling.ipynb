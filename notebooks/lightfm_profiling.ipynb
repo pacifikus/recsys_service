{
  "nbformat": 4,
  "nbformat_minor": 0,
  "metadata": {
    "colab": {
      "provenance": []
    },
    "kernelspec": {
      "name": "python3",
      "display_name": "Python 3"
    },
    "language_info": {
      "name": "python"
    }
  },
  "cells": [
    {
      "cell_type": "code",
      "source": [
        "!pip install rectools > None"
      ],
      "metadata": {
        "id": "q1psUxlyDeQn"
      },
      "execution_count": 2,
      "outputs": []
    },
    {
      "cell_type": "code",
      "execution_count": 3,
      "metadata": {
        "id": "KpsYH8UbC82T"
      },
      "outputs": [],
      "source": [
        "import dill\n",
        "import numpy as np\n",
        "import yaml\n",
        "import cProfile\n",
        "import timeit"
      ]
    },
    {
      "cell_type": "code",
      "source": [
        "from google.colab import drive\n",
        "drive.mount('/content/gdrive')"
      ],
      "metadata": {
        "colab": {
          "base_uri": "https://localhost:8080/"
        },
        "id": "VWdH-B6KC_BJ",
        "outputId": "536c2efb-56a6-48bd-b1b7-d891428a178d"
      },
      "execution_count": 4,
      "outputs": [
        {
          "output_type": "stream",
          "name": "stdout",
          "text": [
            "Mounted at /content/gdrive\n"
          ]
        }
      ]
    },
    {
      "cell_type": "code",
      "source": [
        "%cd gdrive/MyDrive/recsys/"
      ],
      "metadata": {
        "colab": {
          "base_uri": "https://localhost:8080/"
        },
        "id": "DlYqNKcZDiC4",
        "outputId": "b8256b7b-4d9a-4a5c-a0b5-5dac6c0a8809"
      },
      "execution_count": 5,
      "outputs": [
        {
          "output_type": "stream",
          "name": "stdout",
          "text": [
            "/content/gdrive/MyDrive/recsys\n"
          ]
        }
      ]
    },
    {
      "cell_type": "code",
      "source": [
        "class LightFMWrapper:\n",
        "    def __init__(self):\n",
        "        self.model = None\n",
        "        self.users_mapping, self.items_inv_mapping = None, None\n",
        "        self.__load_models()\n",
        "\n",
        "    def recommend(self, user_id, n_recs=10):\n",
        "        user_inner_idx = self.users_mapping[user_id[0]]\n",
        "        items_embedding, user_embedding = self.__get_embeddings(user_inner_idx)\n",
        "        scores = items_embedding @ user_embedding\n",
        "        top_score_ids = scores.argsort()[-n_recs:][::-1]\n",
        "        items_to_recommend = [\n",
        "            self.items_inv_mapping[item] for item in top_score_ids if\n",
        "            item in self.items_inv_mapping\n",
        "        ]\n",
        "        return items_to_recommend\n",
        "\n",
        "    def __get_embeddings(self, user_inner_idx):\n",
        "        user_biases, user_embedding = (\n",
        "            self.model.get_user_representations()[0][user_inner_idx],\n",
        "            self.model.get_user_representations()[1][user_inner_idx],\n",
        "        )\n",
        "        items_biases, items_embedding = self.model.get_item_representations()\n",
        "        items_embedding = items_embedding[:len(self.items_inv_mapping), :]\n",
        "        items_biases = items_biases[:len(self.items_inv_mapping)]\n",
        "        user_embedding = np.hstack(\n",
        "            (\n",
        "                user_biases, np.ones(user_biases.size),\n",
        "                user_embedding,\n",
        "            ),\n",
        "        )\n",
        "        items_embedding = np.hstack(\n",
        "            (\n",
        "                np.ones((items_biases.size, 1)),\n",
        "                items_biases[:, np.newaxis],\n",
        "                items_embedding,\n",
        "            ),\n",
        "        )\n",
        "        return items_embedding, user_embedding\n",
        "\n",
        "    def __load_models(self):\n",
        "        try:\n",
        "            with open('lightfm.dill', 'rb') as f:\n",
        "                self.model = dill.load(f)\n",
        "\n",
        "            with open(\n",
        "                'users_mapping.dill',\n",
        "                'rb',\n",
        "            ) as f:\n",
        "                self.users_mapping = dill.load(f)\n",
        "\n",
        "            with open(\n",
        "                'items_inv_mapping.dill',\n",
        "                'rb',\n",
        "            ) as f:\n",
        "                self.items_inv_mapping = dill.load(f)\n",
        "        except FileNotFoundError:\n",
        "            print('models folder is empty...')\n",
        "\n"
      ],
      "metadata": {
        "id": "PRun_zx0C_EK"
      },
      "execution_count": 6,
      "outputs": []
    },
    {
      "cell_type": "code",
      "source": [
        "lightfm_model = LightFMWrapper()"
      ],
      "metadata": {
        "id": "JU0dwoTyDr-H"
      },
      "execution_count": 7,
      "outputs": []
    },
    {
      "cell_type": "code",
      "source": [
        "testcode = ''' \n",
        "for user_id in list(lightfm_model.users_mapping.keys())[:400]: \n",
        "  lightfm_model.recommend([user_id])\n",
        "'''\n",
        "\n",
        "t = timeit.timeit(testcode, \"from __main__ import lightfm_model\", number=10)\n",
        "print(f'Average time: {t / 10:0.5f} s')"
      ],
      "metadata": {
        "colab": {
          "base_uri": "https://localhost:8080/"
        },
        "id": "QsGxBaWzFEuP",
        "outputId": "3c88e1a7-4d87-4139-c40d-f238c630fc74"
      },
      "execution_count": 19,
      "outputs": [
        {
          "output_type": "stream",
          "name": "stdout",
          "text": [
            "Average time: 1.45671 s\n"
          ]
        }
      ]
    },
    {
      "cell_type": "code",
      "source": [],
      "metadata": {
        "id": "KGCbzQ-QDs0n"
      },
      "execution_count": 16,
      "outputs": []
    }
  ]
}