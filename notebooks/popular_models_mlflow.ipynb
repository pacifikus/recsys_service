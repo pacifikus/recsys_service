{
 "cells": [
  {
   "cell_type": "code",
   "execution_count": 1,
   "metadata": {},
   "outputs": [],
   "source": [
    "import warnings\n",
    "warnings.simplefilter('ignore')"
   ]
  },
  {
   "cell_type": "code",
   "execution_count": 2,
   "metadata": {
    "id": "n74drN_gU9_q"
   },
   "outputs": [],
   "source": [
    "import requests\n",
    "from copy import deepcopy\n",
    "import pandas as pd\n",
    "from pandas.api.types import CategoricalDtype\n",
    "import numpy as np\n",
    "from tqdm.auto import tqdm\n",
    "\n",
    "from rectools import Columns\n",
    "from rectools.dataset import Dataset, Interactions\n",
    "from rectools.models.popular import PopularModel, Popularity\n",
    "from rectools.models.popular_in_category import PopularInCategoryModel, RatioStrategy, MixingStrategy\n",
    "from rectools.model_selection import TimeRangeSplitter\n",
    "from rectools.metrics import MAP, Recall, NDCG, calc_metrics\n",
    "\n",
    "from scipy.stats import mode\n",
    "import scipy.sparse as sps\n",
    "from scipy.sparse import csr_matrix\n",
    "\n",
    "from sklearn.linear_model import ElasticNet\n",
    "\n",
    "from itertools import product\n",
    "\n",
    "import sys\n",
    "import time"
   ]
  },
  {
   "cell_type": "code",
   "execution_count": 3,
   "metadata": {},
   "outputs": [
    {
     "data": {
      "text/plain": [
       "<Experiment: artifact_location='file:///D:/PycharmProjects/itmo_mts_recsys/recsys_service/mlflow_runs/1', creation_time=1681596047094, experiment_id='1', last_update_time=1681596047094, lifecycle_stage='active', name='popular_models', tags={}>"
      ]
     },
     "execution_count": 3,
     "metadata": {},
     "output_type": "execute_result"
    }
   ],
   "source": [
    "# setup MLflow tracking\n",
    "\n",
    "import mlflow\n",
    "\n",
    "mlflow.set_tracking_uri(\"http://127.0.0.1:5001\")\n",
    "mlflow.set_experiment(\"popular_models\")"
   ]
  },
  {
   "cell_type": "code",
   "execution_count": 4,
   "metadata": {
    "id": "PokY7nDnbj9m"
   },
   "outputs": [],
   "source": [
    "pd.set_option('max_colwidth', 400)"
   ]
  },
  {
   "cell_type": "code",
   "execution_count": 53,
   "metadata": {
    "id": "ii5iFfylOijM"
   },
   "outputs": [],
   "source": [
    "n_folds = 3\n",
    "unit = \"D\"\n",
    "n_units = 7\n",
    "K_RECOS = 10\n",
    "metrics = {\n",
    "    \"Recall@10\": Recall(k=10),\n",
    "    \"MAP@10\": MAP(k=10),\n",
    "    \"NDCG@10\": NDCG(k=10),\n",
    "}"
   ]
  },
  {
   "cell_type": "markdown",
   "metadata": {
    "id": "jdXAQ1tHVCtv"
   },
   "source": [
    "## Get data"
   ]
  },
  {
   "cell_type": "code",
   "execution_count": 54,
   "metadata": {
    "id": "V-F3qSpMU-QZ"
   },
   "outputs": [],
   "source": [
    "interactions = pd.read_csv('../data/kion_train/interactions.csv')\n",
    "users = pd.read_csv('../data/kion_train/users.csv')\n",
    "items = pd.read_csv('../data/kion_train/items.csv')"
   ]
  },
  {
   "cell_type": "code",
   "execution_count": 55,
   "metadata": {
    "id": "zaiuR3z_U-VL"
   },
   "outputs": [],
   "source": [
    "# rename columns, convert timestamp\n",
    "interactions.rename(\n",
    "    columns={\n",
    "        'track_id': Columns.Item,\n",
    "        'last_watch_dt': Columns.Datetime,\n",
    "        'total_dur': Columns.Weight\n",
    "    }, \n",
    "    inplace=True) \n",
    "\n",
    "interactions['datetime'] = pd.to_datetime(interactions['datetime'])"
   ]
  },
  {
   "cell_type": "code",
   "execution_count": 56,
   "metadata": {
    "id": "Em9G5Pv_U-Zz"
   },
   "outputs": [],
   "source": [
    "def headtail(df, n=5):\n",
    "    return pd.concat([df.head(n), df.tail(n)])"
   ]
  },
  {
   "cell_type": "markdown",
   "metadata": {
    "id": "f1rqaNNlrYja"
   },
   "source": [
    "## Validation setup"
   ]
  },
  {
   "cell_type": "code",
   "execution_count": 57,
   "metadata": {
    "colab": {
     "base_uri": "https://localhost:8080/"
    },
    "id": "Bd_OsMXQrYNX",
    "outputId": "dab64dff-57c8-44f4-bfd2-45746663e1ff"
   },
   "outputs": [],
   "source": [
    "interactions[Columns.Datetime].min(), interactions[Columns.Datetime].max()"
   ]
  },
  {
   "cell_type": "code",
   "execution_count": 58,
   "metadata": {
    "colab": {
     "base_uri": "https://localhost:8080/"
    },
    "id": "3QCZnQQTrYKd",
    "outputId": "ac8ef1a7-b3ea-4f55-cb4f-245a56ef4428"
   },
   "outputs": [],
   "source": [
    "daily_inters = interactions.groupby(Columns.Datetime)[Columns.User].agg('count')\n",
    "daily_inters.name = 'interactions'\n",
    "headtail(daily_inters)"
   ]
  },
  {
   "cell_type": "code",
   "execution_count": 59,
   "metadata": {
    "colab": {
     "base_uri": "https://localhost:8080/"
    },
    "id": "JWd_ptKdrYG8",
    "outputId": "7de0a54b-393c-4faf-ff0d-3391653f1b01"
   },
   "outputs": [],
   "source": [
    "#last_date = interactions[Columns.Datetime].max().normalize()\n",
    "last_date = pd.to_datetime('15-08-2021', format='%d-%m-%Y')\n",
    "\n",
    "\n",
    "start_date = last_date - pd.Timedelta(n_folds * n_units - 1, unit=unit)\n",
    "periods = n_folds + 1\n",
    "freq = f\"{n_units}{unit}\"\n",
    "print(f\"\"\"\n",
    "    start_date: {start_date}\n",
    "    last_date: {last_date}\n",
    "    periods: {periods}\n",
    "    freq: {freq}\n",
    "\"\"\")\n",
    "\n",
    "date_range = pd.date_range(start=start_date, periods=periods, freq=freq, tz=last_date.tz)\n",
    "date_range"
   ]
  },
  {
   "cell_type": "code",
   "execution_count": 60,
   "metadata": {
    "colab": {
     "base_uri": "https://localhost:8080/"
    },
    "id": "cahimHc5RZLL",
    "outputId": "9161ec6e-7293-4db6-e220-b187bca3ede8"
   },
   "outputs": [],
   "source": [
    "cv = TimeRangeSplitter(\n",
    "    date_range=date_range,\n",
    "    filter_already_seen=True,\n",
    "cv"
   ]
  },
  {
   "cell_type": "markdown",
   "metadata": {
    "id": "8-Zl__24oK_D"
   },
   "source": [
    "## Prepare data"
   ]
  },
  {
   "cell_type": "markdown",
   "metadata": {
    "id": "ERyFhD6ZpDIK"
   },
   "source": [
    "### Binarize years in release_year feature"
   ]
  },
  {
   "cell_type": "code",
   "execution_count": 61,
   "metadata": {
    "colab": {
     "base_uri": "https://localhost:8080/",
     "height": 206
    },
    "id": "o9qwQvCOoMSa",
    "outputId": "d5ee96a5-7dd0-4f2c-b466-47fd69a59e73"
   },
   "outputs": [],
   "source": [
    "_, bins = pd.qcut(items[\"release_year\"], 10, retbins=True)\n",
    "labels = bins[:-1]\n",
    "\n",
    "year_feature = pd.DataFrame(\n",
    "    {\n",
    "        Columns.Item: items[Columns.Item],\n",
    "        \"value\": pd.cut(items[\"release_year\"], bins=bins, labels=bins[:-1]),\n",
    "        \"feature\": \"release_year\",\n",
    "    }\n",
    ")\n",
    "year_feature.head()"
   ]
  },
  {
   "cell_type": "markdown",
   "metadata": {
    "id": "jan0-1japHLS"
   },
   "source": [
    "### Split genres into list"
   ]
  },
  {
   "cell_type": "code",
   "execution_count": 62,
   "metadata": {
    "colab": {
     "base_uri": "https://localhost:8080/",
     "height": 143
    },
    "id": "qc-yYIQroxi1",
    "outputId": "dd6eb062-b7cf-41fa-b1a0-db059a9942ea"
   },
   "outputs": [],
   "source": [
    "items[\"genre\"] = items[\"genres\"].str.split(\",\")\n",
    "items[[\"genre\", \"genres\"]].head(3)"
   ]
  },
  {
   "cell_type": "code",
   "execution_count": 63,
   "metadata": {
    "colab": {
     "base_uri": "https://localhost:8080/",
     "height": 206
    },
    "id": "vdbziOdqpE-U",
    "outputId": "7021249e-d1bb-4a8d-a8a4-fa54c7459618"
   },
   "outputs": [],
   "source": [
    "genre_feature = items[[Columns.Item, \"genre\"]].explode(\"genre\")\n",
    "genre_feature.columns = [Columns.Item, \"value\"]\n",
    "genre_feature[\"feature\"] = \"genre\"\n",
    "genre_feature.head()"
   ]
  },
  {
   "cell_type": "code",
   "execution_count": 64,
   "metadata": {
    "colab": {
     "base_uri": "https://localhost:8080/"
    },
    "id": "Fk9L7tI6pFBB",
    "outputId": "8e691a1d-78d1-422f-fe78-48b1a95cd51f"
   },
   "outputs": [],
   "source": [
    "item_feat = pd.concat([genre_feature, year_feature])\n",
    "item_feat = item_feat[item_feat[Columns.Item].isin(interactions[Columns.Item])]\n",
    "item_feat.shape"
   ]
  },
  {
   "cell_type": "markdown",
   "metadata": {
    "id": "_nbkfq5XpmMq"
   },
   "source": [
    "### Construct dataset object to fit models"
   ]
  },
  {
   "cell_type": "code",
   "execution_count": 65,
   "metadata": {
    "id": "LWblKCHXpFEH"
   },
   "outputs": [],
   "source": [
    "dataset = Dataset.construct(\n",
    "    interactions_df=interactions,\n",
    "    user_features_df=None,\n",
    "    item_features_df=item_feat,\n",
    "    cat_item_features=['genre', 'release_year']\n",
    ")"
   ]
  },
  {
   "cell_type": "markdown",
   "metadata": {
    "id": "ivljYzPezqGc"
   },
   "source": [
    "## Tuning hyperparams utils"
   ]
  },
  {
   "cell_type": "code",
   "execution_count": 66,
   "metadata": {
    "id": "0wobwXJ-RQo7"
   },
   "outputs": [],
   "source": [
    "def tune_hyperparams(cv, params, model_type, inters_obj, verbose=False, category_feature=None):\n",
    "    params_grid = [item for item in product(*params.values())]\n",
    "    fold_iterator = cv.split(inters_obj)\n",
    "    results = []\n",
    "\n",
    "    for i_fold, (train_ids, test_ids, _) in enumerate(fold_iterator):     \n",
    "        df_train = inters_obj.df.iloc[train_ids]\n",
    "        item_feat_train = item_feat[item_feat[Columns.Item].isin(df_train[Columns.Item])]\n",
    "      \n",
    "    dataset = Dataset.construct(\n",
    "        interactions_df=df_train,\n",
    "        user_features_df=None,\n",
    "        item_features_df=item_feat_train,\n",
    "        cat_item_features=['genre', 'release_year']\n",
    "    )\n",
    "\n",
    "    df_test = inters_obj.df.iloc[test_ids][Columns.UserItem]\n",
    "    test_users = np.unique(df_test[Columns.User])\n",
    "\n",
    "    for params_setup in params_grid:\n",
    "        with mlflow.start_run():\n",
    "            start_time = time.time()\n",
    "            \n",
    "            if category_feature:\n",
    "                model = model_type(category_feature=category_feature)\n",
    "            else:\n",
    "                model = model_type()\n",
    "            for i, param_name in enumerate(params.keys()): \n",
    "                setattr(model, param_name, params_setup[i])\n",
    "                \n",
    "                # Log current models params\n",
    "                mlflow.log_param(param_name, params_setup[i])\n",
    "\n",
    "            model.fit(dataset)\n",
    "            elapsed = time.time() - start_time\n",
    "            \n",
    "            recos = model.recommend(\n",
    "                  users=test_users,\n",
    "                  dataset=dataset,\n",
    "                  k=K_RECOS,\n",
    "                  filter_viewed=True,\n",
    "            )\n",
    "            metric_values = calc_metrics(\n",
    "                  metrics,\n",
    "                  reco=recos,\n",
    "                  interactions=df_test,\n",
    "                  prev_interactions=df_train\n",
    "            )\n",
    "            res = {\"fold\": i_fold, \"model\": f'{model_type.__name__} {str(params_setup)}'}\n",
    "            res.update(metric_values)\n",
    "            if verbose:\n",
    "                print(res)\n",
    "            results.append(res)\n",
    "            \n",
    "            # log metrics NDCG, MAP@10, Recall@10\n",
    "            metrics_to_log = {k.replace('@', '_at_'): v for k, v in metric_values.items()}\n",
    "            mlflow.log_metrics(metrics_to_log)\n",
    "            \n",
    "            # log model size in bytes and fit time\n",
    "            mlflow.log_metric('model_size_bytes', sys.getsizeof(model))\n",
    "            mlflow.log_metric('fit_time', elapsed)\n",
    "           \n",
    "    return results"
   ]
  },
  {
   "cell_type": "markdown",
   "metadata": {
    "id": "QAfD6NTdpyLy"
   },
   "source": [
    "## Popular model"
   ]
  },
  {
   "cell_type": "markdown",
   "metadata": {
    "id": "GhyJGe6frBi6"
   },
   "source": [
    "### Simple run"
   ]
  },
  {
   "cell_type": "code",
   "execution_count": 67,
   "metadata": {
    "colab": {
     "base_uri": "https://localhost:8080/"
    },
    "id": "CXq5ImSzpznq",
    "outputId": "042edd93-7ac1-43e9-845c-915c1f352146"
   },
   "outputs": [],
   "source": [
    "%%time\n",
    "\n",
    "popular_model = PopularModel()\n",
    "popular_model.fit(dataset);"
   ]
  },
  {
   "cell_type": "code",
   "execution_count": 68,
   "metadata": {
    "colab": {
     "base_uri": "https://localhost:8080/",
     "height": 363
    },
    "id": "OnRBO1R9pl3q",
    "outputId": "24291cfb-4920-476b-d5c9-b32ba9b58621"
   },
   "outputs": [],
   "source": [
    "popular_model.recommend(\n",
    "    dataset.user_id_map.external_ids[:1], \n",
    "    dataset=dataset, \n",
    "    k=10, \n",
    "    filter_viewed=False,  # True - throw away some items for each user\n",
    ").merge(\n",
    "    items[['item_id', 'title']], \n",
    "    on='item_id',\n",
    "    how='left',\n",
    ")"
   ]
  },
  {
   "cell_type": "markdown",
   "metadata": {
    "id": "X4p_oQZ6rFHx"
   },
   "source": [
    "### Tune hyperparams"
   ]
  },
  {
   "cell_type": "code",
   "execution_count": 69,
   "metadata": {
    "id": "v9FpzYksRuMT"
   },
   "outputs": [],
   "source": [
    "params_grid = {\n",
    "    'period': [\n",
    "        pd.Timedelta(7, unit='d'),\n",
    "        pd.Timedelta(1, unit='w'),\n",
    "        pd.Timedelta(14, unit='d'),\n",
    "        pd.Timedelta(28, unit='d'),\n",
    "     ],\n",
    "     'popularity': [Popularity.N_USERS, Popularity.N_INTERACTIONS, Popularity.MEAN_WEIGHT, Popularity.SUM_WEIGHT]\n",
    "}"
   ]
  },
  {
   "cell_type": "code",
   "execution_count": 70,
   "metadata": {
    "id": "9fzfuxvIRf41"
   },
   "outputs": [],
   "source": [
    "cv = TimeRangeSplitter(\n",
    "    date_range=date_range,\n",
    "    filter_already_seen=True,\n",
    ")"
   ]
  },
  {
   "cell_type": "code",
   "execution_count": 71,
   "metadata": {
    "id": "KHycZMGjRlnG"
   },
   "outputs": [],
   "source": [
    "inters = Interactions(interactions)"
   ]
  },
  {
   "cell_type": "code",
   "execution_count": 80,
   "metadata": {
    "id": "vpQA120tQmp7"
   },
   "outputs": [],
   "source": [
    "%%time\n",
    "\n",
    "val_results = tune_hyperparams(cv, params=params_grid, model_type=PopularModel, inters_obj=inters)"
   ]
  },
  {
   "cell_type": "markdown",
   "metadata": {},
   "source": [
    "### Get metrics from MLflow and the best model "
   ]
  },
  {
   "cell_type": "code",
   "execution_count": 13,
   "metadata": {},
   "outputs": [
    {
     "data": {
      "text/html": [
       "<div>\n",
       "<style scoped>\n",
       "    .dataframe tbody tr th:only-of-type {\n",
       "        vertical-align: middle;\n",
       "    }\n",
       "\n",
       "    .dataframe tbody tr th {\n",
       "        vertical-align: top;\n",
       "    }\n",
       "\n",
       "    .dataframe thead th {\n",
       "        text-align: right;\n",
       "    }\n",
       "</style>\n",
       "<table border=\"1\" class=\"dataframe\">\n",
       "  <thead>\n",
       "    <tr style=\"text-align: right;\">\n",
       "      <th></th>\n",
       "      <th>run_id</th>\n",
       "      <th>experiment_id</th>\n",
       "      <th>status</th>\n",
       "      <th>artifact_uri</th>\n",
       "      <th>start_time</th>\n",
       "      <th>end_time</th>\n",
       "      <th>metrics.MAP_at_10</th>\n",
       "      <th>metrics.NDCG_at_10</th>\n",
       "      <th>metrics.model_size_bytes</th>\n",
       "      <th>metrics.fit_time</th>\n",
       "      <th>metrics.Recall_at_10</th>\n",
       "      <th>params.period</th>\n",
       "      <th>params.popularity</th>\n",
       "      <th>tags.mlflow.runName</th>\n",
       "      <th>tags.mlflow.source.type</th>\n",
       "      <th>tags.mlflow.user</th>\n",
       "      <th>tags.mlflow.source.name</th>\n",
       "    </tr>\n",
       "  </thead>\n",
       "  <tbody>\n",
       "    <tr>\n",
       "      <th>0</th>\n",
       "      <td>d0d0e4b774424d43b45a14f59bd95387</td>\n",
       "      <td>1</td>\n",
       "      <td>FINISHED</td>\n",
       "      <td>file:///D:/PycharmProjects/itmo_mts_recsys/recsys_service/mlflow_runs/1/d0d0e4b774424d43b45a14f59bd95387/artifacts</td>\n",
       "      <td>2023-04-15 22:38:00.591000+00:00</td>\n",
       "      <td>2023-04-15 22:38:12.629000+00:00</td>\n",
       "      <td>0.090447</td>\n",
       "      <td>0.047749</td>\n",
       "      <td>48.0</td>\n",
       "      <td>0.296674</td>\n",
       "      <td>0.205985</td>\n",
       "      <td>7 days 00:00:00</td>\n",
       "      <td>Popularity.N_INTERACTIONS</td>\n",
       "      <td>wistful-carp-209</td>\n",
       "      <td>LOCAL</td>\n",
       "      <td>maste</td>\n",
       "      <td>D:\\PycharmProjects\\itmo_mts_recsys\\venv\\lib\\site-packages\\ipykernel_launcher.py</td>\n",
       "    </tr>\n",
       "  </tbody>\n",
       "</table>\n",
       "</div>"
      ],
      "text/plain": [
       "                             run_id experiment_id    status  \\\n",
       "0  d0d0e4b774424d43b45a14f59bd95387             1  FINISHED   \n",
       "\n",
       "                                                                                                         artifact_uri  \\\n",
       "0  file:///D:/PycharmProjects/itmo_mts_recsys/recsys_service/mlflow_runs/1/d0d0e4b774424d43b45a14f59bd95387/artifacts   \n",
       "\n",
       "                        start_time                         end_time  \\\n",
       "0 2023-04-15 22:38:00.591000+00:00 2023-04-15 22:38:12.629000+00:00   \n",
       "\n",
       "   metrics.MAP_at_10  metrics.NDCG_at_10  metrics.model_size_bytes  \\\n",
       "0           0.090447            0.047749                      48.0   \n",
       "\n",
       "   metrics.fit_time  metrics.Recall_at_10    params.period  \\\n",
       "0          0.296674              0.205985  7 days 00:00:00   \n",
       "\n",
       "           params.popularity tags.mlflow.runName tags.mlflow.source.type  \\\n",
       "0  Popularity.N_INTERACTIONS    wistful-carp-209                   LOCAL   \n",
       "\n",
       "  tags.mlflow.user  \\\n",
       "0            maste   \n",
       "\n",
       "                                                           tags.mlflow.source.name  \n",
       "0  D:\\PycharmProjects\\itmo_mts_recsys\\venv\\lib\\site-packages\\ipykernel_launcher.py  "
      ]
     },
     "execution_count": 13,
     "metadata": {},
     "output_type": "execute_result"
    }
   ],
   "source": [
    "best_run = mlflow.search_runs(experiment_names=[\"popular_models\"], order_by=[\"metrics.MAP_at_10 DESC\"], max_results=1)\n",
    "best_run"
   ]
  }
 ],
 "metadata": {
  "colab": {
   "collapsed_sections": [
    "X4p_oQZ6rFHx",
    "q0ySLW6bocg6"
   ],
   "provenance": [],
   "toc_visible": true
  },
  "kernelspec": {
   "display_name": "Python 3 (ipykernel)",
   "language": "python",
   "name": "python3"
  },
  "language_info": {
   "codemirror_mode": {
    "name": "ipython",
    "version": 3
   },
   "file_extension": ".py",
   "mimetype": "text/x-python",
   "name": "python",
   "nbconvert_exporter": "python",
   "pygments_lexer": "ipython3",
   "version": "3.8.6"
  }
 },
 "nbformat": 4,
 "nbformat_minor": 1
}
